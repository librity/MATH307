{
 "cells": [
  {
   "cell_type": "markdown",
   "metadata": {},
   "source": [
    "## Vector and Matrix Norms"
   ]
  },
  {
   "cell_type": "markdown",
   "metadata": {},
   "source": [
    "### Vector Norms\n",
    "There exists a norm function in the NumPy Linear algebra submodule numpy.linalg. With this we can calculate the $l_1$, $l_2$ and $l_\\infty$ norm of a given vector (i.e. 1-dim np.array)"
   ]
  },
  {
   "cell_type": "code",
   "execution_count": 1,
   "metadata": {},
   "outputs": [
    {
     "name": "stdout",
     "output_type": "stream",
     "text": [
      "l1 = 13.0 \n",
      "\n",
      "l2 = 7.810249675906654 \n",
      "\n",
      "linf = 6.0 \n",
      "\n"
     ]
    }
   ],
   "source": [
    "import numpy as np  \n",
    "import numpy.linalg as npla \n",
    "v = np.array([-4,6,-3])\n",
    "l1 = npla.norm(v,1)\n",
    "print('l1 =',l1,'\\n')\n",
    "l2 = npla.norm(v,2)\n",
    "print('l2 =',l2,'\\n')\n",
    "linf = npla.norm(v,np.inf)\n",
    "print('linf =',linf,'\\n')"
   ]
  },
  {
   "cell_type": "markdown",
   "metadata": {},
   "source": [
    "Similar we can calculate the $l_p$ norm from any vector x"
   ]
  },
  {
   "cell_type": "code",
   "execution_count": 2,
   "metadata": {},
   "outputs": [
    {
     "name": "stdout",
     "output_type": "stream",
     "text": [
      "lp = 6.00092467214731\n"
     ]
    }
   ],
   "source": [
    "x = np.array([1,2,3])\n",
    "p = 15\n",
    "lp = npla.norm(v,p)\n",
    "print('lp =',lp,)"
   ]
  },
  {
   "cell_type": "markdown",
   "metadata": {},
   "source": [
    "### How does the unit cicle look like in these norms? "
   ]
  },
  {
   "cell_type": "code",
   "execution_count": 3,
   "metadata": {
    "scrolled": true
   },
   "outputs": [],
   "source": [
    "import numpy as np\n",
    "import matplotlib.pyplot as plt\n",
    "\n",
    "def UnitCircleInpNorm(p):\n",
    "    \" plot unit circle in p-norm \"\n",
    "    \"We sample at 200 point\"\n",
    "    if p == 1: \n",
    "        x = np.linspace(0,1,200)\n",
    "        y = 1 - np.abs(x)\n",
    "        plt.plot(x,y,x,-y,-x,y,-x,-y)\n",
    "        plt.axis(\"equal\")\n",
    "    else:\n",
    "        phi = np.linspace(0, 2*np.pi, 400)\n",
    "        x = np.cos(phi)\n",
    "        y = (1 - np.abs(x)**p)**(1/p) \n",
    "        plt.plot(x,y,x,-y,-x,y,-x,-y)\n",
    "        plt.axis(\"equal\")\n",
    "    \n",
    "    plt.show()"
   ]
  },
  {
   "cell_type": "code",
   "execution_count": 4,
   "metadata": {},
   "outputs": [
    {
     "data": {
      "image/png": "[encoded data removed]",
      "text/plain": [
       "<Figure size 432x288 with 1 Axes>"
      ]
     },
     "metadata": {
      "filenames": {
       "image/png": "/home/markus/Git/MATH307/_build/jupyter_execute/notebooks/NormsInPython_7_0.png"
      },
      "needs_background": "light"
     },
     "output_type": "display_data"
    }
   ],
   "source": [
    "UnitCircleInpNorm(1)"
   ]
  },
  {
   "cell_type": "markdown",
   "metadata": {},
   "source": [
    "### What about Matrix norms?"
   ]
  },
  {
   "cell_type": "code",
   "execution_count": 5,
   "metadata": {},
   "outputs": [],
   "source": [
    "A=np.array([[2, 1, 1], [2, 0, 2], [4, 3, 4]])"
   ]
  },
  {
   "cell_type": "markdown",
   "metadata": {},
   "source": [
    "### Hilbert-Schmidt Norm"
   ]
  },
  {
   "cell_type": "code",
   "execution_count": 6,
   "metadata": {},
   "outputs": [
    {
     "name": "stdout",
     "output_type": "stream",
     "text": [
      "Hilbert-Schmidt-Norm of A = 7.416198487095663\n"
     ]
    }
   ],
   "source": [
    "HSofA = npla.norm(A)\n",
    "print('Hilbert-Schmidt-Norm of A =',HSofA)"
   ]
  },
  {
   "cell_type": "markdown",
   "metadata": {},
   "source": [
    "The Hilbert-Schmidt-Norm is also called Frobeniusnorm. \n",
    "Lets check that it behaves as I claimed in the Live-Lecture, i.e. \n",
    "$$\n",
    "\\|A\\|_{\\rm HS} = \\|a\\|_2\n",
    "$$\n",
    "where $a$ is the vector with all the entries of $A$."
   ]
  },
  {
   "cell_type": "code",
   "execution_count": 7,
   "metadata": {},
   "outputs": [
    {
     "name": "stdout",
     "output_type": "stream",
     "text": [
      "[[2]\n",
      " [1]\n",
      " [1]\n",
      " [2]\n",
      " [0]\n",
      " [2]\n",
      " [4]\n",
      " [3]\n",
      " [4]]\n"
     ]
    }
   ],
   "source": [
    "a = A.reshape(A.shape[0]*A.shape[1],1)\n",
    "print(a)"
   ]
  },
  {
   "cell_type": "code",
   "execution_count": 8,
   "metadata": {},
   "outputs": [
    {
     "name": "stdout",
     "output_type": "stream",
     "text": [
      "l2-norm of a = 7.810249675906654\n"
     ]
    }
   ],
   "source": [
    "l2ofa = npla.norm(a,2)\n",
    "print('l2-norm of a =',l2)"
   ]
  },
  {
   "cell_type": "markdown",
   "metadata": {},
   "source": [
    "Up to a rounding error there are equal:"
   ]
  },
  {
   "cell_type": "code",
   "execution_count": 9,
   "metadata": {
    "scrolled": true
   },
   "outputs": [
    {
     "data": {
      "text/plain": [
       "-8.881784197001252e-16"
      ]
     },
     "execution_count": 9,
     "metadata": {},
     "output_type": "execute_result"
    }
   ],
   "source": [
    "HSofA - l2ofa"
   ]
  },
  {
   "cell_type": "markdown",
   "metadata": {},
   "source": [
    "### Nuclear Norm\n",
    "The nuclear norm is the sum of the singular values."
   ]
  },
  {
   "cell_type": "code",
   "execution_count": 10,
   "metadata": {},
   "outputs": [
    {
     "name": "stdout",
     "output_type": "stream",
     "text": [
      "Nuclear norm of A = 8.0\n"
     ]
    }
   ],
   "source": [
    "NucA = npla.norm(A,1)\n",
    "print('Nuclear norm of A =',NucA)"
   ]
  },
  {
   "cell_type": "markdown",
   "metadata": {},
   "source": [
    "What singular values are we will learn in Chapter 3 when we talk about eigenvalues of a matrix."
   ]
  },
  {
   "cell_type": "markdown",
   "metadata": {},
   "source": [
    "### Operator Norm\n",
    "The operator norm of a matrix $A$ is the maximal streching factor of $A$. \n",
    "$$\n",
    "    \\|A\\| = \\max_{x\\neq 0} \\frac{\\|Ax\\|}{\\|x\\|}\n",
    "$$\n",
    "Obviously we can not easily calculate this for arbitrary matrices."
   ]
  },
  {
   "cell_type": "markdown",
   "metadata": {},
   "source": [
    "In the special case of a $mxm$ **diagonal matrix** \n",
    "$$\n",
    "D =\n",
    "    \\begin{pmatrix}\n",
    "        \\lambda_1 \\\\& \\lambda_2 \\\\\n",
    "        &&\\ddots\\\\\n",
    "        &&&\\lambda_m\\\\\n",
    "    \\end{pmatrix}\n",
    " $$\n",
    "    however we have that \n",
    "$$\n",
    "    \\|D\\| = \\max_{1 \\leq i \\leq m} |\\lambda_i| \n",
    "$$"
   ]
  },
  {
   "cell_type": "markdown",
   "metadata": {},
   "source": [
    "#### Example:"
   ]
  },
  {
   "cell_type": "code",
   "execution_count": 11,
   "metadata": {},
   "outputs": [
    {
     "name": "stdout",
     "output_type": "stream",
     "text": [
      "[[ 2.   0.   0. ]\n",
      " [ 0.  -5.   0. ]\n",
      " [ 0.   0.   0.5]]\n"
     ]
    }
   ],
   "source": [
    "D=np.array([[2, 0, 0], [0, -5, 0], [0, 0, 0.5]])\n",
    "print(D)"
   ]
  },
  {
   "cell_type": "code",
   "execution_count": 12,
   "metadata": {
    "scrolled": true
   },
   "outputs": [
    {
     "name": "stdout",
     "output_type": "stream",
     "text": [
      "Operatornorm for diagonal matrix D = 5.0\n"
     ]
    }
   ],
   "source": [
    "OpDiaB = npla.norm(D,np.inf)\n",
    "print('Operatornorm for diagonal matrix D =',OpDiaB)"
   ]
  },
  {
   "cell_type": "markdown",
   "metadata": {},
   "source": [
    "#### Note: This only works for diagonal matrices !!!"
   ]
  }
 ],
 "metadata": {
  "kernelspec": {
   "display_name": "Python 3",
   "language": "python",
   "name": "python3"
  },
  "language_info": {
   "codemirror_mode": {
    "name": "ipython",
    "version": 3
   },
   "file_extension": ".py",
   "mimetype": "text/x-python",
   "name": "python",
   "nbconvert_exporter": "python",
   "pygments_lexer": "ipython3",
   "version": "3.7.9"
  }
 },
 "nbformat": 4,
 "nbformat_minor": 4
}