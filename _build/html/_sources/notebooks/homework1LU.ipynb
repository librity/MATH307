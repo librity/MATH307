{
 "cells": [
  {
   "cell_type": "markdown",
   "metadata": {},
   "source": [
    "## The LU decomposition in python\n",
    "\n",
    "The routines to compute the A=PLU factorization are in the scipy library. See\n",
    "[lu_factor](https://docs.scipy.org/doc/scipy/reference/generated/scipy.linalg.lu_factor.html#scipy.linalg.lu_factor)\n",
    "and [lu_solve](https://docs.scipy.org/doc/scipy/reference/generated/scipy.linalg.lu_solve.html#scipy.linalg.lu_solve).\n"
   ]
  },
  {
   "cell_type": "code",
   "execution_count": 1,
   "metadata": {},
   "outputs": [],
   "source": [
    "import numpy as np\n",
    "import scipy.linalg as la\n",
    "import matplotlib.pyplot as plt"
   ]
  },
  {
   "cell_type": "markdown",
   "metadata": {},
   "source": [
    "Start with the matrix\n",
    "$$\n",
    "A=\\begin{bmatrix}\n",
    "3&2&3\\\\1&1&1\\\\1&0&1\\\\\n",
    "\\end{bmatrix}\n",
    "$$\n",
    "and run lu_factor"
   ]
  },
  {
   "cell_type": "code",
   "execution_count": 4,
   "metadata": {},
   "outputs": [
    {
     "name": "stdout",
     "output_type": "stream",
     "text": [
      "[[ 3.          2.          3.        ]\n",
      " [ 0.33333333 -0.66666667  0.        ]\n",
      " [ 0.33333333 -0.5         0.        ]]\n",
      "[0 2 2]\n"
     ]
    },
    {
     "name": "stderr",
     "output_type": "stream",
     "text": [
      "<ipython-input-4-c699d102d660>:2: LinAlgWarning: Diagonal number 3 is exactly zero. Singular matrix.\n",
      "  lu, piv = la.lu_factor(A)\n"
     ]
    }
   ],
   "source": [
    "A=np.array([[3,2,3],[1,1,1],[1,0,1]])\n",
    "lu, piv = la.lu_factor(A)\n",
    "print(lu)\n",
    "print(piv)"
   ]
  },
  {
   "cell_type": "markdown",
   "metadata": {},
   "source": [
    "**QUESTION 1**: Read the documentation and explain how to recover $A$ from the output of lu_factor(A). Illustrate with the example $A=\\begin{bmatrix}\n",
    "3&2&3\\\\1&1&1\\\\1&0&1\\\\\n",
    "\\end{bmatrix}$"
   ]
  },
  {
   "cell_type": "code",
   "execution_count": null,
   "metadata": {},
   "outputs": [],
   "source": []
  },
  {
   "cell_type": "markdown",
   "metadata": {},
   "source": [
    "**QUESTION 2**: To solve $Ax=b$ we can use \n",
    " \n",
    " \n",
    "(1)\n",
    "x=la.solve(A,b) \n",
    "\n",
    "Or, we can use the LU factorization\n",
    "\n",
    "(2)\n",
    "lu, piv = la.lu_factor(A)\n",
    "x = la.lu_solve((lu,piv),b)\n",
    "\n",
    "Compare the time it takes to run (1) and (2) when A and b are large random matrices/vectors. Use np.random.rand(N,N) to obtain matrices whose entries are uniformly distributed on $[0,1]$"
   ]
  },
  {
   "cell_type": "code",
   "execution_count": null,
   "metadata": {},
   "outputs": [],
   "source": []
  }
 ],
 "metadata": {
  "kernelspec": {
   "display_name": "Python 3",
   "language": "python",
   "name": "python3"
  },
  "language_info": {
   "codemirror_mode": {
    "name": "ipython",
    "version": 3
   },
   "file_extension": ".py",
   "mimetype": "text/x-python",
   "name": "python",
   "nbconvert_exporter": "python",
   "pygments_lexer": "ipython3",
   "version": "3.8.5"
  }
 },
 "nbformat": 4,
 "nbformat_minor": 4
}
