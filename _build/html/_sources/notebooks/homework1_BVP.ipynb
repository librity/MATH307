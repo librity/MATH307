{
 "cells": [
  {
   "cell_type": "markdown",
   "metadata": {},
   "source": [
    "## Re-using the A=PLU factorization\n",
    "\n",
    "In some situations we can re-use the A=PLU factorization in multiple problems. An example is solving a boundary value problem for several different boundary conditions. We describe a example of this: the discrete Dirichlet problem.\n",
    "\n",
    "### Some notation\n",
    "\n",
    "If $X$ is a finite (or countably infinite) set we define \n",
    "$$\n",
    "\\ell^2(X) = \\{f: X\\rightarrow \\mathbb C : \\sum_{x\\in X} |f_x|^2 < \\infty\\}\n",
    "$$\n",
    "\n",
    "Note 1: If $X$ is finite then the sum in the definition always converges so $\\ell^2(X)$ actually contains _all_ functions from $X\\rightarrow \\mathbb C$\n",
    "\n",
    "Note 2: We can equally well consider real valued function $X\\rightarrow \\mathbb R$\n",
    "\n",
    "Note 3: When $f,g \\in \\ell^2(X)$ then the inner (dot) product \n",
    "$$\n",
    "\\langle f, g \\rangle = \\sum_{x\\in X} \\overline f_x g_x \n",
    "$$\n",
    "is well defined (ie converges) Again obvious if $X$ is finite.\n",
    "\n",
    "Example: if $X=[0,1,2,3]$ then a function $f:X\\rightarrow \\mathbb C$ is simply an assignment of a number $f_i$ to every $i\\in X$, ie a vector $\\begin{bmatrix}f_0\\\\f_1\\\\f_2\\\\f_3\\\\\\end{bmatrix} \\in \\mathbb C^4$\n",
    "\n",
    "If $X=X_1\\cup X_2$ is a disjoint untion then $\\ell^2(X)$ can be written as a direct sum $\\ell^2(X) = \\ell^2(X_1) \\oplus \\ell^2(X_2)$. Here we are identifying functions on $X_1$ with functions on $X$ which are zero away from $X_1$. \n",
    "\n",
    "Example: If $X=\\{0,1,2,3\\} = \\{\\{0,1\\} \\cup \\{2,3\\}\\}$ the direct sum decomposition of a vector is\n",
    "$$\n",
    "\\begin{bmatrix}f_0\\\\f_1\\\\f_2\\\\f_3\\\\\\end{bmatrix} = \\begin{bmatrix}f_0\\\\f_1\\\\0\\\\0\\\\\\end{bmatrix} + \\begin{bmatrix}0\\\\0\\\\f_2\\\\f_3\\\\\\end{bmatrix}\n",
    "$$\n",
    "\n",
    "We can define complementary projections $P$ and $Q$, where $P:\\ell^2(X)\\rightarrow \\ell^2(X_1)$ is defined by\n",
    "$$\n",
    "(Pf)(v) = \\begin{cases} f(v) & v\\in X_1\\\\ 0 & v\\in X_2\\\\\\end{cases}\n",
    "$$\n",
    "and $Q$ is defined similarly with $X_1$ and $X_2$ exchanged. In the example\n",
    "$$\n",
    "P : \\begin{bmatrix}f_0\\\\f_1\\\\f_2\\\\f_3\\\\\\end{bmatrix} \\mapsto \\begin{bmatrix}f_0\\\\f_1\\\\0\\\\0\\\\\\end{bmatrix} \\quad\n",
    "Q : \\begin{bmatrix}f_0\\\\f_1\\\\f_2\\\\f_3\\\\\\end{bmatrix} \\mapsto \\begin{bmatrix}0\\\\0\\\\f_2\\\\f_3\\\\\\end{bmatrix}\n",
    "$$\n",
    "\n",
    "The projections $P$ and $Q$ satisfy $P+Q=I$, $P^2=P$ and $Q^2 = Q$.\n",
    "\n",
    "\n",
    "Define $\\delta_w$ be the function $\\delta_w(v) = \\begin{cases} 1 & v=w\\\\ 0 &\\hbox{otherwise}\\end{cases}$ Then $\\{\\delta_x : x\\in X\\}$ is an orthonormal basis for $\\ell^2 (X)$.\n",
    "\n",
    "### Vertices, boundary, the discrete Laplacian, boundary conditions.\n",
    "\n",
    "Consider a graph with vertex set $V$. Here is an example. \n",
    "\n",
    "![title](img/d.png)\n",
    "\n",
    "We assume that $V=V_i \\cup B$ is a disjoint union of the interior points $V_i$ and the boundary $B$. In the example, the boundary vertices are blue.\n",
    "Then\n",
    "$$\n",
    "\\ell^2(V) = \\ell^2(V_i) \\oplus \\ell^2(B)\n",
    "$$\n",
    "We have the projections $Q:\\ell^2(V)\\rightarrow \\ell^2(V_i)$ and $P:\\ell^2(V)\\rightarrow \\ell^2(B)$\n",
    "\n",
    "The discrete Laplacian, as an operator, or linear transformation, acting on functions $f:V\\rightarrow\\mathbb R$, is defined as\n",
    "\n",
    "$$(Lf)(v) = \\sum_{w:w\\sim v} \\big(f(w)-f(v)\\big)$$\n",
    "\n",
    "Another way of writing $(Lf)(v)$ is \n",
    "$$(Lf)(v) = \\Big(\\sum_{w\\sim v} f(w) \\Big) - c(v)f(v),$$\n",
    "\n",
    "where $c(v)$ is the number of edges joining $v$. (Aside: The first term $\\sum_{w\\sim v} f(w) = (Af)(v)$ is the value at $v$ of the adjacency operator $A$ applied to $f$.)\n",
    "\n",
    "A function $f\\in\\ell^2(V)$ is called _harmonic_ if $Lf(v)=0$ for all interior points $v$. For example, constant functions are harmonic. In general, $f\\in\\ell^2(V)$ is  harmonic if $QLf=0$\n",
    "\n",
    "A boundary condition is a map $b\\in\\ell^2(B)$. A function $f$ satisfies this boundary condition if $f(v) = b(v)$ for all $v\\in B$. Another way of writing this is $Pf=b$.\n",
    "\n",
    "We wish to solve the following problem: \n",
    "\n",
    "### Dirichlet problem:\n",
    "\n",
    ">> *Given a function $b$ on the boundary, find a harmonic function $f:V\\rightarrow \\mathbb R$ that agrees with $b$ on the boundary.*\n",
    "\n",
    "To solve the Dirichlet problem we must find $f\\in\\ell^2(V)$ such that  \n",
    "$QLf=0$ and $Pf=b$. Inserting $I=Q+P=Q^2+P$ in the first equation we find \n",
    "$$QLf = QLQ Qf + QLPf  = QLQ Qf + QLb=0.$$\n",
    "So if we denote $Qf$, the restriction of $f$ to the interior vertices by $f_i$, then $f_i$ solves\n",
    "\n",
    "\n",
    "$$\n",
    "QLQ f_i = -QLb\n",
    "$$\n",
    "\n",
    "\n",
    "Conversely, if $f_i$ satisfies this equation, then $f$ defined by $f(v) = \\begin{cases} f_i(v)& v\\in V_i\\\\b(v) & v\\in B\\\\\\end{cases}$ solves the Dirichlet problem with boundary condition $b$.\n",
    "\n",
    "### The main point\n",
    " \n",
    "If we want to solve the Dirichlet problem for two different boundary condtions on the same graph, then the matrix $QLQ$ doesn't change. So we can re-use the PLU decomposition.\n",
    "\n",
    "Let's see how this works in the example graph above. To keep track of the vertices we need to label them. Here is a labelling:\n",
    "\n",
    "![title](img/d2.png)\n",
    "\n",
    "Associated to the labelling are orthonormal bases $\\delta_{v_0}, \\delta_{v_1}, \\delta_{v_2}, \\delta_{v_3}, \\delta_{v_4}$ for $\\ell^2(V)$ and $\\delta_{v_0}, \\delta_{v_1}, \\delta_{v_4}$ for $\\ell^2(V_i)$. Writing the matrices for $L$ and $QLQ$ with respect to these bases yields\n",
    "$$\n",
    "L = \\begin{bmatrix} -2 & 1 & 0 & 0 & 1\\\\   1& -4 & 1 & 1 & 1\\\\0   &1 &-2  & 1&0\\\\   0&1&1&-3&1\\\\  1 &1&0&1&-3\\\\\\end{bmatrix}\n",
    "$$\n",
    "$$\n",
    "QLQ = \\begin{bmatrix} -2 & 1 & 1\\\\   1& -4 &  1\\\\1 &1&-3\\\\\\end{bmatrix}\n",
    "$$\n",
    "\n",
    "### Solving the Dirichlet problem\n",
    "\n",
    "Let's solve the Dirichlet problem for the example graph for the boundary condition $b(v_2) = 1$ and $b(v_3)=0$. The corresponding vector in $\\ell^2(V)$ is  $b=\\begin{bmatrix}0\\\\0\\\\1\\\\0\\\\0\\\\\\end{bmatrix}$. Then\n",
    "$$\n",
    "Lb= \\begin{bmatrix}0\\\\1\\\\-2\\\\1\\\\0\\\\\\end{bmatrix}\n",
    "$$\n",
    "and\n",
    "$$\n",
    "-QLb= \\begin{bmatrix}0\\\\-1\\\\0\\\\\\end{bmatrix}\n",
    "$$\n",
    "\n",
    "So must solve\n",
    "$$\n",
    "\\begin{bmatrix} -2 & 1 & 1\\\\   1& -4 &  1\\\\1 &1&-3\\\\\\end{bmatrix} f_i = \\begin{bmatrix}0\\\\-1\\\\0\\\\\\end{bmatrix}\n",
    "$$\n",
    "\n",
    "We could do this as follows:\n"
   ]
  },
  {
   "cell_type": "code",
   "execution_count": 1,
   "metadata": {},
   "outputs": [
    {
     "name": "stdout",
     "output_type": "stream",
     "text": [
      "[[0.30769231]\n",
      " [0.38461538]\n",
      " [0.23076923]]\n"
     ]
    }
   ],
   "source": [
    "import numpy as np\n",
    "import scipy.linalg as la\n",
    "import matplotlib.pyplot as plt\n",
    "\n",
    "A = np.array([[-2,1,1],[1,-4,1],[1,1,-3]])\n",
    "c = np.array([[0],[-1],[0]])\n",
    "f = la.solve(A,c)\n",
    "print(f)"
   ]
  },
  {
   "cell_type": "markdown",
   "metadata": {},
   "source": [
    "Instead, we get the solution via the LU factorization"
   ]
  },
  {
   "cell_type": "code",
   "execution_count": 2,
   "metadata": {},
   "outputs": [
    {
     "name": "stdout",
     "output_type": "stream",
     "text": [
      "[[0.30769231]\n",
      " [0.38461538]\n",
      " [0.23076923]]\n"
     ]
    }
   ],
   "source": [
    "lu, piv = la.lu_factor(A)\n",
    "f = la.lu_solve((lu,piv),c)\n",
    "print(f)"
   ]
  },
  {
   "cell_type": "markdown",
   "metadata": {},
   "source": [
    "The advantage is that if we now want to solve the Dirichlet problem with a new boundary condition $b(v_2) = 0$ and $b(v_3)=1$ we just need to compute the new right side $c2 = -QLb = \\begin{bmatrix}0\\\\-1\\\\-1\\\\\\end{bmatrix}$. We can then reuse the LU factorization:"
   ]
  },
  {
   "cell_type": "code",
   "execution_count": 3,
   "metadata": {},
   "outputs": [
    {
     "name": "stdout",
     "output_type": "stream",
     "text": [
      "[[0.69230769]\n",
      " [0.61538462]\n",
      " [0.76923077]]\n"
     ]
    }
   ],
   "source": [
    "c2 = np.array([[0],[-1],[-1]])\n",
    "f2 = la.lu_solve((lu,piv),c2)\n",
    "print(f2)"
   ]
  },
  {
   "cell_type": "markdown",
   "metadata": {},
   "source": [
    "Let's verify that we have computed the solutions correctly. "
   ]
  },
  {
   "cell_type": "code",
   "execution_count": 4,
   "metadata": {},
   "outputs": [
    {
     "name": "stdout",
     "output_type": "stream",
     "text": [
      "[[-2.77555756e-17]\n",
      " [-8.32667268e-17]\n",
      " [ 0.00000000e+00]]\n",
      "[[ 0.0000000e+00]\n",
      " [-4.4408921e-16]\n",
      " [ 0.0000000e+00]]\n"
     ]
    }
   ],
   "source": [
    "L=np.array([[-2,1,0,0,1],[1,-4,1,1,1],[0,1,-2,1,0],[0,1,1,-3,1],[1,1,0,1,-3]])\n",
    "Q=np.array([[1,0,0],[0,1,0],[0,0,0],[0,0,0],[0,0,1]])\n",
    "h1=np.array([f[0],f[1],[1],[0],f[2]])\n",
    "h2=np.array([f2[0],f2[1],[0],[1],f2[2]])\n",
    "print(np.transpose(Q)@L@h1)\n",
    "print(np.transpose(Q)@L@h2)"
   ]
  },
  {
   "cell_type": "code",
   "execution_count": 5,
   "metadata": {},
   "outputs": [
    {
     "data": {
      "text/plain": [
       "array([[-2.77555756e-17],\n",
       "       [-8.32667268e-17],\n",
       "       [-1.61538462e+00],\n",
       "       [ 1.61538462e+00],\n",
       "       [ 0.00000000e+00]])"
      ]
     },
     "execution_count": 5,
     "metadata": {},
     "output_type": "execute_result"
    }
   ],
   "source": [
    "L@h1"
   ]
  },
  {
   "cell_type": "markdown",
   "metadata": {},
   "source": [
    "**Homework problem 1:** The discrete Poisson kernel is the $5\\times 2$ matrix $PK$ such that for any boundary condtion $b_2$, $b_3$, the product $PK  \\begin{bmatrix}b_2\\\\b_3\\\\\\end{bmatrix}$ is the solution of the Dirichlet problem with this boundary condition. \n",
    "Compute $PK$ for the example above\n",
    "\n",
    "**Homework problem 2:**\n",
    "For the graph with boundary shown here\n",
    "\n",
    "![title](img/d3.png)\n",
    "\n",
    "Compute the solution of the Dirichlet problem  with boundary values $b_0=1$, $b_1=b_2=\\cdots = b_5=0$ using the LU decomposition. Then reuse the decomposition to solve the Dirichlet problem  with boundary values $b_0=b_1=b_2=\\cdots = b_5=1$\n",
    "and then with values $b_0= 0, b_1=1 , b_2=b_3\\cdots = b_5=0$. (Actually there is an even easier way to get this last one using the symmetry. Use this to check your computed answer.)\n",
    "\n",
    "\n",
    "\n",
    "\n",
    "\n",
    "\n",
    "\n"
   ]
  },
  {
   "cell_type": "code",
   "execution_count": null,
   "metadata": {},
   "outputs": [],
   "source": []
  }
 ],
 "metadata": {
  "kernelspec": {
   "display_name": "Python 3",
   "language": "python",
   "name": "python3"
  },
  "language_info": {
   "codemirror_mode": {
    "name": "ipython",
    "version": 3
   },
   "file_extension": ".py",
   "mimetype": "text/x-python",
   "name": "python",
   "nbconvert_exporter": "python",
   "pygments_lexer": "ipython3",
   "version": "3.8.5"
  }
 },
 "nbformat": 4,
 "nbformat_minor": 4
}
