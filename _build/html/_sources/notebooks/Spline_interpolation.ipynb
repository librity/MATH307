{
 "cells": [
  {
   "cell_type": "markdown",
   "metadata": {},
   "source": [
    "# Natural Cubic Spline Interpolation"
   ]
  },
  {
   "cell_type": "code",
   "execution_count": 2,
   "metadata": {},
   "outputs": [],
   "source": [
    "import numpy as np\n",
    "import scipy.linalg as la\n",
    "import matplotlib.pyplot as plt\n",
    "from scipy.interpolate import CubicSpline"
   ]
  },
  {
   "cell_type": "markdown",
   "metadata": {},
   "source": [
    "Given $N+1$ data points $(t_0,y_0), \\dots , (t_N,y_N)$ we want to construct the **natural cubic spline**: a piecewise cubic polynomial function $p(t)$ such that:\n",
    "* $p(t)$ is defined by $N$ cubic polynomials $p_1(t),p_2(t),\\dots,p_N(t)$\n",
    "* Each $p_k(t)$ is defined on the subinterval $[t_{k-1},t_k]$\n",
    "* $p(t)$ is continuous\n",
    "* $p(t)$ is smooth (ie. $p'(t)$ and $p''(t)$ are continuous)\n",
    "* $p(t_k)=y_k$ for all $k=0,\\dots,N$"
   ]
  },
  {
   "cell_type": "markdown",
   "metadata": {},
   "source": [
    "### Example 1\n",
    "\n",
    "Consider $(-1,0),(\\frac{1}{2},2),(2,-1)$. Construct the linear system for the cubic spline."
   ]
  },
  {
   "cell_type": "code",
   "execution_count": 3,
   "metadata": {},
   "outputs": [],
   "source": [
    "t = np.array([-1,0.5,2])\n",
    "y = np.array([0,2,-1])"
   ]
  },
  {
   "cell_type": "code",
   "execution_count": 5,
   "metadata": {},
   "outputs": [
    {
     "data": {
      "text/plain": [
       "1.5"
      ]
     },
     "execution_count": 5,
     "metadata": {},
     "output_type": "execute_result"
    }
   ],
   "source": [
    "L1 = t[1] - t[0]\n",
    "L2 = t[2] - t[1]"
   ]
  },
  {
   "cell_type": "code",
   "execution_count": 6,
   "metadata": {},
   "outputs": [],
   "source": [
    "A = np.array([[L1**3,L1**2,L1,0,0,0],\n",
    "              [3*L1**2,2*L1,1,0,0,-1],\n",
    "              [6*L1,2,0,0,-2,0],\n",
    "              [0,0,0,L2**3,L2**2,L2],\n",
    "              [0,2,0,0,0,0],\n",
    "              [0,0,0,6*L2,2,0]])"
   ]
  },
  {
   "cell_type": "code",
   "execution_count": 7,
   "metadata": {},
   "outputs": [
    {
     "data": {
      "text/plain": [
       "array([[ 3.375,  2.25 ,  1.5  ,  0.   ,  0.   ,  0.   ],\n",
       "       [ 6.75 ,  3.   ,  1.   ,  0.   ,  0.   , -1.   ],\n",
       "       [ 9.   ,  2.   ,  0.   ,  0.   , -2.   ,  0.   ],\n",
       "       [ 0.   ,  0.   ,  0.   ,  3.375,  2.25 ,  1.5  ],\n",
       "       [ 0.   ,  2.   ,  0.   ,  0.   ,  0.   ,  0.   ],\n",
       "       [ 0.   ,  0.   ,  0.   ,  9.   ,  2.   ,  0.   ]])"
      ]
     },
     "execution_count": 7,
     "metadata": {},
     "output_type": "execute_result"
    }
   ],
   "source": [
    "A"
   ]
  },
  {
   "cell_type": "code",
   "execution_count": 8,
   "metadata": {},
   "outputs": [],
   "source": [
    "rhs = np.array([y[1]-y[0],0,0,y[2]-y[1],0,0]).reshape(6,1)"
   ]
  },
  {
   "cell_type": "code",
   "execution_count": 10,
   "metadata": {},
   "outputs": [
    {
     "data": {
      "text/plain": [
       "array([[ 2],\n",
       "       [ 0],\n",
       "       [ 0],\n",
       "       [-3],\n",
       "       [ 0],\n",
       "       [ 0]])"
      ]
     },
     "execution_count": 10,
     "metadata": {},
     "output_type": "execute_result"
    }
   ],
   "source": [
    "rhs"
   ]
  },
  {
   "cell_type": "code",
   "execution_count": 15,
   "metadata": {},
   "outputs": [],
   "source": [
    "c = la.solve(A,rhs)"
   ]
  },
  {
   "cell_type": "code",
   "execution_count": 16,
   "metadata": {},
   "outputs": [
    {
     "data": {
      "text/plain": [
       "array([[-0.37037037],\n",
       "       [ 0.        ],\n",
       "       [ 2.16666667],\n",
       "       [ 0.37037037],\n",
       "       [-1.66666667],\n",
       "       [-0.33333333]])"
      ]
     },
     "execution_count": 16,
     "metadata": {},
     "output_type": "execute_result"
    }
   ],
   "source": [
    "c"
   ]
  },
  {
   "cell_type": "code",
   "execution_count": 20,
   "metadata": {},
   "outputs": [
    {
     "data": {
      "image/png": "[encoded data removed]",
      "text/plain": [
       "<Figure size 432x288 with 1 Axes>"
      ]
     },
     "metadata": {
      "needs_background": "light"
     },
     "output_type": "display_data"
    }
   ],
   "source": [
    "T1 = np.linspace(-1,0.5,100)\n",
    "T2 = np.linspace(0.5,2,100)\n",
    "Y1 = c[0]*(T1 - t[0])**3 + c[1]*(T1 - t[0])**2 + c[2]*(T1 - t[0]) + y[0]\n",
    "Y2 = c[3]*(T2 - t[1])**3 + c[4]*(T2 - t[1])**2 + c[5]*(T2 - t[1]) + y[1]\n",
    "plt.plot(T1,Y1,'b-',T2,Y2,'y-',t,y,'r.',markersize=10)\n",
    "plt.grid(True)\n",
    "plt.show()"
   ]
  },
  {
   "cell_type": "code",
   "execution_count": 13,
   "metadata": {},
   "outputs": [
    {
     "data": {
      "text/plain": [
       "15.034681302861333"
      ]
     },
     "execution_count": 13,
     "metadata": {},
     "output_type": "execute_result"
    }
   ],
   "source": [
    "np.linalg.cond(A)"
   ]
  },
  {
   "cell_type": "markdown",
   "metadata": {},
   "source": [
    "Now let's use [`scipy.interpolate.CubicSpline`](https://docs.scipy.org/doc/scipy/reference/generated/scipy.interpolate.CubicSpline.html) to compute the natural cubic spline and compare our results."
   ]
  },
  {
   "cell_type": "code",
   "execution_count": 23,
   "metadata": {},
   "outputs": [
    {
     "data": {
      "image/png": "[encoded data removed]",
      "text/plain": [
       "<Figure size 432x288 with 1 Axes>"
      ]
     },
     "metadata": {
      "needs_background": "light"
     },
     "output_type": "display_data"
    }
   ],
   "source": [
    "t1 = [-1,0.5,2]\n",
    "y1 = [0,2,-1]\n",
    "cs1 = CubicSpline(t1,y1,bc_type='natural')\n",
    "T1 = np.linspace(-1,2,200)\n",
    "Y1 = cs1(T1)\n",
    "plt.plot(T1,Y1,t1,y1,'r.',markersize=10)\n",
    "plt.grid(True)\n",
    "plt.show()"
   ]
  },
  {
   "cell_type": "markdown",
   "metadata": {},
   "source": [
    "Verify the coefficient matrix:"
   ]
  },
  {
   "cell_type": "code",
   "execution_count": 24,
   "metadata": {},
   "outputs": [
    {
     "data": {
      "text/plain": [
       "array([[-0.37037037,  0.37037037],\n",
       "       [ 0.        , -1.66666667],\n",
       "       [ 2.16666667, -0.33333333],\n",
       "       [ 0.        ,  2.        ]])"
      ]
     },
     "execution_count": 24,
     "metadata": {},
     "output_type": "execute_result"
    }
   ],
   "source": [
    "cs1.c"
   ]
  },
  {
   "cell_type": "markdown",
   "metadata": {},
   "source": [
    "### Example 2"
   ]
  },
  {
   "cell_type": "code",
   "execution_count": 26,
   "metadata": {},
   "outputs": [
    {
     "data": {
      "image/png": "[encoded data removed]",
      "text/plain": [
       "<Figure size 432x288 with 1 Axes>"
      ]
     },
     "metadata": {
      "needs_background": "light"
     },
     "output_type": "display_data"
    }
   ],
   "source": [
    "N = 10\n",
    "t2 = np.linspace(0,1,N+1)\n",
    "y2 = np.random.randint(0,10,N+1)\n",
    "cs2 = CubicSpline(t2,y2,bc_type='natural')\n",
    "T2 = np.linspace(0,1,200)\n",
    "Y2 = cs2(T2)\n",
    "plt.plot(T2,Y2,t2,y2,'r.',markersize=10)\n",
    "plt.show()"
   ]
  },
  {
   "cell_type": "markdown",
   "metadata": {},
   "source": [
    "### Example 3\n",
    "\n",
    "Let's interpolate the points $\\sin(\\pi t_k)$ for $t_k = k/N$ for $N=15$ with added noise."
   ]
  },
  {
   "cell_type": "code",
   "execution_count": 27,
   "metadata": {},
   "outputs": [
    {
     "data": {
      "image/png": "[encoded data removed]",
      "text/plain": [
       "<Figure size 432x288 with 1 Axes>"
      ]
     },
     "metadata": {
      "needs_background": "light"
     },
     "output_type": "display_data"
    }
   ],
   "source": [
    "N = 15\n",
    "t3 = np.linspace(0,1,N+1)\n",
    "noise = 0.005*np.random.randn(t3.size)\n",
    "y3 = np.sin(np.pi*t3) + noise\n",
    "cs3 = CubicSpline(t3,y3)\n",
    "T3 = np.linspace(0,1,200)\n",
    "Y3 = cs3(T3)\n",
    "plt.plot(T3,Y3,'b-',t3,y3,'r.',markersize=10)\n",
    "plt.grid(True)\n",
    "plt.show()"
   ]
  },
  {
   "cell_type": "markdown",
   "metadata": {},
   "source": [
    "The cubic spline is not sensitive to small changes in the $y$ values."
   ]
  }
 ],
 "metadata": {
  "kernelspec": {
   "display_name": "Python 3",
   "language": "python",
   "name": "python3"
  },
  "language_info": {
   "codemirror_mode": {
    "name": "ipython",
    "version": 3
   },
   "file_extension": ".py",
   "mimetype": "text/x-python",
   "name": "python",
   "nbconvert_exporter": "python",
   "pygments_lexer": "ipython3",
   "version": "3.8.5"
  }
 },
 "nbformat": 4,
 "nbformat_minor": 4
}
