{
 "cells": [
  {
   "cell_type": "markdown",
   "metadata": {},
   "source": [
    "# MATH 307  --   What is it useful for"
   ]
  },
  {
   "cell_type": "markdown",
   "metadata": {},
   "source": [
    "## Interpolation of data points"
   ]
  },
  {
   "cell_type": "code",
   "execution_count": null,
   "metadata": {},
   "outputs": [],
   "source": [
    "import numpy as np\n",
    "import scipy.linalg as la\n",
    "import matplotlib.pyplot as plt"
   ]
  },
  {
   "cell_type": "markdown",
   "metadata": {},
   "source": [
    "Lets imaging you what to interpolate between some given data points for a project with some scientist on the other side of the earth. "
   ]
  },
  {
   "cell_type": "markdown",
   "metadata": {},
   "source": [
    "You get the following data point\n",
    "(x_0, y_0) = (-1, 8) ; (x_1,y_1) = (-0.8, 5.5) ; (x_2,y_2) = (0, 3)"
   ]
  },
  {
   "cell_type": "code",
   "execution_count": null,
   "metadata": {},
   "outputs": [],
   "source": [
    "x = np.array([-1, -0.8, 0])\n",
    "y = np.array([8, 5.5, 3])\n",
    "A = np.vander(x,increasing=True)"
   ]
  },
  {
   "cell_type": "code",
   "execution_count": null,
   "metadata": {},
   "outputs": [],
   "source": [
    "print(A)"
   ]
  },
  {
   "cell_type": "markdown",
   "metadata": {},
   "source": [
    "The matrix A gives use a linear system we can solve to find the interpolation between these points "
   ]
  },
  {
   "cell_type": "code",
   "execution_count": null,
   "metadata": {},
   "outputs": [],
   "source": [
    "c = la.solve(A,y)"
   ]
  },
  {
   "cell_type": "code",
   "execution_count": null,
   "metadata": {},
   "outputs": [],
   "source": [
    "print(c)"
   ]
  },
  {
   "cell_type": "markdown",
   "metadata": {},
   "source": [
    "This is the solution of the system Ac = y. Lets see how the plot looks like"
   ]
  },
  {
   "cell_type": "code",
   "execution_count": null,
   "metadata": {},
   "outputs": [],
   "source": [
    "T = np.linspace(-1,0,100)\n",
    "Y = c[0] + c[1]*T + c[2]*T**2 \n",
    "plt.plot(T,Y,'b-',x,y,'r.',markersize=10)\n",
    "plt.grid(True)\n",
    "plt.show()"
   ]
  },
  {
   "cell_type": "markdown",
   "metadata": {},
   "source": [
    "Then an email reaches you and you get the information that there has to be the additional constraint Y(-1/3) = 3. \n",
    "In other words you get an additional data point (x_3, y_3) = (-1/3, 3) "
   ]
  },
  {
   "cell_type": "code",
   "execution_count": null,
   "metadata": {},
   "outputs": [],
   "source": [
    "x = np.array([-1, -0.8, -1/3, 0])\n",
    "y = np.array([8, 5.5,3,3])\n",
    "A = np.vander(x,increasing=True)"
   ]
  },
  {
   "cell_type": "code",
   "execution_count": null,
   "metadata": {},
   "outputs": [],
   "source": [
    "print(A)"
   ]
  },
  {
   "cell_type": "code",
   "execution_count": null,
   "metadata": {},
   "outputs": [],
   "source": [
    "c = la.solve(A,y)"
   ]
  },
  {
   "cell_type": "code",
   "execution_count": null,
   "metadata": {},
   "outputs": [],
   "source": [
    "print(c)"
   ]
  },
  {
   "cell_type": "code",
   "execution_count": null,
   "metadata": {},
   "outputs": [],
   "source": [
    "T = np.linspace(-1,0,100)\n",
    "Y = c[0] + c[1]*T + c[2]*T**2 + c[3]*T**3 \n",
    "plt.plot(T,Y,'b-',x,y,'r.',markersize=10)\n",
    "plt.grid(True)\n",
    "plt.show()"
   ]
  },
  {
   "cell_type": "markdown",
   "metadata": {},
   "source": [
    "That is still all fine. Now lets assume we get the following set of data points which was constructed by a lot of measurements with a very faulty measurement device."
   ]
  },
  {
   "cell_type": "code",
   "execution_count": null,
   "metadata": {},
   "outputs": [],
   "source": [
    "c0 = 3\n",
    "c1 = 5\n",
    "c2 = 8\n",
    "c3 = -2\n",
    "N = 1000\n",
    "t = np.random.rand(N) - 1 # Random numbers in the interval (-1,1)\n",
    "noise = np.random.randn(N)\n",
    "y = c0 + c1*t + c2*t**2 + c3*t**3 + noise\n",
    "plt.scatter(t,y,alpha=0.5,lw=0,s=10);\n",
    "plt.show()"
   ]
  },
  {
   "cell_type": "markdown",
   "metadata": {},
   "source": [
    "The plot of the datapoints has resemblence with the previous plot. But how do we find a solution to describe these data points with minimal error."
   ]
  },
  {
   "cell_type": "code",
   "execution_count": null,
   "metadata": {},
   "outputs": [],
   "source": [
    "A = np.column_stack([np.ones(N),t,t**2])"
   ]
  },
  {
   "cell_type": "markdown",
   "metadata": {},
   "source": [
    "We solve $\\left( A^T A \\right) \\mathbf{c} = \\left( A^T \\right) \\mathbf{y}$ which gives us the least-square solution"
   ]
  },
  {
   "cell_type": "code",
   "execution_count": null,
   "metadata": {},
   "outputs": [],
   "source": [
    "c = la.solve(A.T @ A,A.T @ y)\n"
   ]
  },
  {
   "cell_type": "code",
   "execution_count": null,
   "metadata": {},
   "outputs": [],
   "source": [
    "ts = np.linspace(-1,0,20)\n",
    "ys = c[0] + c[1]*ts + c[2]*ts**2 \n",
    "plt.plot(ts,ys,'r',linewidth=4)\n",
    "plt.scatter(t,y,alpha=0.5,lw=0)\n",
    "plt.show()"
   ]
  },
  {
   "cell_type": "markdown",
   "metadata": {},
   "source": [
    "### Image deblurring"
   ]
  },
  {
   "cell_type": "code",
   "execution_count": null,
   "metadata": {},
   "outputs": [],
   "source": [
    "import numpy as np\n",
    "import scipy.linalg as la\n",
    "import matplotlib.pyplot as plt\n",
    "from scipy.io import loadmat"
   ]
  },
  {
   "cell_type": "code",
   "execution_count": null,
   "metadata": {},
   "outputs": [],
   "source": [
    "kitten = plt.imread('data/kitten.jpg').astype(np.float64)"
   ]
  },
  {
   "cell_type": "code",
   "execution_count": null,
   "metadata": {},
   "outputs": [],
   "source": [
    "N = 256\n",
    "c = np.zeros(N)\n",
    "s = 5\n",
    "c[:s] = (s - np.arange(0,s))/(3*s)\n",
    "Ac = la.toeplitz(c)\n",
    "r = np.zeros(N)\n",
    "s = 20\n",
    "r[:s] = (s - np.arange(0,s))/(3*s)\n",
    "Ar = la.toeplitz(r)"
   ]
  },
  {
   "cell_type": "code",
   "execution_count": null,
   "metadata": {},
   "outputs": [],
   "source": [
    "B = Ac@kitten@Ar.T + 0.01*np.random.randn(256,256)"
   ]
  },
  {
   "cell_type": "code",
   "execution_count": null,
   "metadata": {},
   "outputs": [],
   "source": [
    "plt.imshow(B,cmap='gray')\n",
    "plt.show()"
   ]
  },
  {
   "cell_type": "markdown",
   "metadata": {},
   "source": [
    "The image of the kitten is blurred by some noise $E$, so that \n",
    "\n",
    "$$\n",
    "A_c X A_r^T = B + E\n",
    "$$\n",
    "\n",
    "How do we find $X$, i.e. the unblurred image of the kitten?"
   ]
  },
  {
   "cell_type": "markdown",
   "metadata": {},
   "source": [
    "We compute using the truncated pseudoinverse\n",
    "\n",
    "$$\n",
    "X = (A_c)_k^+ B (A_r^T)_k^+\n",
    "$$"
   ]
  },
  {
   "cell_type": "code",
   "execution_count": null,
   "metadata": {},
   "outputs": [],
   "source": [
    "Pc,Sc,QTc = la.svd(Ac)\n",
    "Pr,Sr,QTr = la.svd(Ar)"
   ]
  },
  {
   "cell_type": "code",
   "execution_count": null,
   "metadata": {},
   "outputs": [],
   "source": [
    "k = 50\n",
    "Dc_k_plus = np.hstack([1/Sc[:k],np.zeros(N-k)])\n",
    "Dr_k_plus = np.hstack([1/Sr[:k],np.zeros(N-k)])\n",
    "Ac_k_plus = QTc.T @ np.diag(Dc_k_plus) @ Pc.T\n",
    "Ar_k_plus = Pr @ np.diag(Dr_k_plus) @ QTr\n",
    "X = Ac_k_plus @ B @ Ar_k_plus"
   ]
  },
  {
   "cell_type": "code",
   "execution_count": null,
   "metadata": {},
   "outputs": [],
   "source": [
    "plt.imshow(X,cmap='gray')\n",
    "plt.show()"
   ]
  },
  {
   "cell_type": "code",
   "execution_count": null,
   "metadata": {},
   "outputs": [],
   "source": [
    "k = 100\n",
    "Dc_k_plus = np.hstack([1/Sc[:k],np.zeros(N-k)])\n",
    "Dr_k_plus = np.hstack([1/Sr[:k],np.zeros(N-k)])\n",
    "Ac_k_plus = QTc.T @ np.diag(Dc_k_plus) @ Pc.T\n",
    "Ar_k_plus = Pr @ np.diag(Dr_k_plus) @ QTr\n",
    "X = Ac_k_plus @ B @ Ar_k_plus"
   ]
  },
  {
   "cell_type": "code",
   "execution_count": null,
   "metadata": {},
   "outputs": [],
   "source": [
    "plt.imshow(X,cmap='gray')\n",
    "plt.show()"
   ]
  },
  {
   "cell_type": "code",
   "execution_count": null,
   "metadata": {},
   "outputs": [],
   "source": [
    "k = 200\n",
    "Dc_k_plus = np.hstack([1/Sc[:k],np.zeros(N-k)])\n",
    "Dr_k_plus = np.hstack([1/Sr[:k],np.zeros(N-k)])\n",
    "Ac_k_plus = QTc.T @ np.diag(Dc_k_plus) @ Pc.T\n",
    "Ar_k_plus = Pr @ np.diag(Dr_k_plus) @ QTr\n",
    "X = Ac_k_plus @ B @ Ar_k_plus"
   ]
  },
  {
   "cell_type": "code",
   "execution_count": null,
   "metadata": {},
   "outputs": [],
   "source": [
    "plt.imshow(X,cmap='gray')\n",
    "plt.show()"
   ]
  },
  {
   "cell_type": "code",
   "execution_count": null,
   "metadata": {},
   "outputs": [],
   "source": [
    "plt.imshow(kitten,cmap='gray')\n",
    "plt.show()"
   ]
  },
  {
   "cell_type": "markdown",
   "metadata": {},
   "source": [
    "**Homework Exercises**\n",
    "\n",
    "1. Find the general solution of the linear system:  $$\n",
    "\\begin{array}{ r @{{}={}} r  >{{}}c<{{}} r  >{{}}c<{{}}  r }\n",
    "x_1 &-& 3x_2 &+& 4x_3 &=&  1 \\\\\n",
    "-2x_1 &+&  5x_2 &-& 7x_3 &=& 1 \\\\\n",
    "x_1 &-& 5x_2 &+& 8x_3 &=& 5 \\\\\n",
    "\\end{array}\n",
    "$$\n",
    "\n",
    "\n",
    "2. Does the matrix equation $Ax = b$ have a solution? If yes, write down the general solution of the system:  \n",
    "$$ \n",
    "A = \n",
    "\\begin{bmatrix}\n",
    "2 & -8 & 4 & 2 \\\\\n",
    "1 & -3 & 0 & 2 \\\\\n",
    "-1 & 2 & 2 & -4 \\\\\n",
    "-3 & 11 & -4 & 2\n",
    "\\end{bmatrix}\\,, \\quad \n",
    "b = \\begin{bmatrix}\n",
    "1 \\\\ 2 \\\\ 5 \\\\ 2\n",
    "\\end{bmatrix}\n",
    "$$\n",
    "\n",
    "3. What about the equation $Bx = c$? If it has a solution, write it down in the most general form:    \n",
    "$$\n",
    "B = \\begin{bmatrix}\n",
    "1 & 1 & 1 & 1 \\\\\n",
    "1 & 1 & -1 & -1 \\\\\n",
    "1 & -1 & 0 & 0 \\\\\n",
    "0 & 0 & 1 & 1\n",
    "\\end{bmatrix}\\,, \\quad \n",
    "c = \\begin{bmatrix}\n",
    "3 \\\\ 1 \\\\ 0 \\\\ 1\n",
    "\\end{bmatrix}\n",
    "$$"
   ]
  }
 ],
 "metadata": {
  "kernelspec": {
   "display_name": "Python 3",
   "language": "python",
   "name": "python3"
  },
  "language_info": {
   "codemirror_mode": {
    "name": "ipython",
    "version": 3
   },
   "file_extension": ".py",
   "mimetype": "text/x-python",
   "name": "python",
   "nbconvert_exporter": "python",
   "pygments_lexer": "ipython3",
   "version": "3.8.5"
  }
 },
 "nbformat": 4,
 "nbformat_minor": 4
}
