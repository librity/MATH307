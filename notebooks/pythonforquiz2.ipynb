{
 "cells": [
  {
   "cell_type": "markdown",
   "metadata": {},
   "source": [
    "## How much python do I need to know for Quiz 2?\n",
    "\n",
    "You should be able to set up and solve linear systems numerically using np.array and la.solve from the libraries NumPy and SciPy. For example, to solve \n",
    "\n",
    "$$\\begin{bmatrix}1& 2& 3& 4\\\\4& 3& 2& 1\\\\1&2&2&1\\\\0&1&0&0\\\\\\end{bmatrix} x =\\begin{bmatrix}1\\\\1\\\\1\\\\1\\\\\\end{bmatrix}$$\n",
    "\n",
    "we can use np.array and la.solve from NumPy and SciPy like this:"
   ]
  },
  {
   "cell_type": "code",
   "execution_count": 30,
   "metadata": {},
   "outputs": [],
   "source": [
    "import numpy as np\n",
    "import scipy.linalg as la\n",
    "A=np.array([[1, 2, 3, 4],[4, 3, 2, 1],[1,2,2,1],[0,1,0,0]])\n",
    "b=np.array([[1],[1],[1],[1]])\n",
    "x=la.solve(A,b)"
   ]
  },
  {
   "cell_type": "markdown",
   "metadata": {},
   "source": [
    "All the standard operations on matrices are availabl in these libraries. For homework and \"real life\" you should get used to consulting the online documentation. For the quizzes I'll try to keep things under control!"
   ]
  },
  {
   "cell_type": "markdown",
   "metadata": {},
   "source": [
    "## Finite differnce equations for boundary values problems with a parameter.\n",
    "\n",
    "The Quiz will have a question on the this topic. I realized that there was more information needed than could be reasonalby absorbed in the few minutes available on a quiz. So I will give everyone a copy of this a few days before.\n",
    "\n",
    "Let $\\lambda > 0$ be a positive real number. We want to solve the BVP\n",
    "$$-f''(x) -\\lambda^2 f(x) = 0,\\quad \\hbox{ for } \\quad x\\in[0,1] \\quad f(0)=f(1)=0$$ \n",
    "\n",
    "This sure looks like (and in fact is) a second order BVP like the ones we considered in class. It is different, though. For one thing, it is a homogeneous equation. If $f(x)$ solves this equation then so does any multiple of $f$. In particular, $f(0) = 0$ is always a solution. \n",
    "\n",
    "In fact this equation is so simple we can find all the solutions by brain. The general solution to $y'' - \\lambda^2 y = 0$ is $y(x) = c_1 \\cos(\\lambda x) + c_2 \\sin(\\lambda x)$ The boundary conditions force $c_1=0$ and $\\lambda = n\\pi$ for $n\\in\\mathbb Z$. So solutions only exists for a discrete set of $\\lambda$.\n",
    "\n",
    "Suppose that when faced with this equation we try to proceed numerically by choosing a value of $\\lambda$ and following our previous recipe. Well this is almost certainly doomed to failure unless we are lucky enough to have chosen one of the special values. It is like finding eigenvectors and eigenvalues. In fact, this equation *is* an infinite dimensional \n",
    "eigenvalue problem. In the quiz, you will use this insight to compute solutions.\n",
    "\n",
    "## python procedures to understand coming in to the quizz\n",
    "\n",
    "\n",
    "To compute equally spaced point you can use \n",
    "\n",
    "np.arange() \n",
    "\n",
    "returns evenly spaced values within a given interval.\n",
    "\n",
    "np.linspace()\n",
    "\n",
    "returns evenly spaced numbers over a specified interval. The procedures range() and linspace() are subtly different. Sometimes one is more convenient, sometimes the other \n",
    "\n",
    "np.diag()\n",
    "\n",
    "If v is an one dimensional array (ie a vector) then np.diag(v) returns the matrix with $v$ on its diagonal.\n",
    "Similarly, np.diag(v,1) is the matrix with v on its superdiagonal. Guess what np.diag(v,-1) is! Note that if $v$ has length $n$ then np.diag(v,1) is an $n+1)x(n+1) matrix. \n",
    "\n",
    "la.eig()\n",
    "\n",
    "If A is an nxn matrix then la.eig(A) is an array with two components. \n",
    "la.eig[0] a one dimensional array (ie a vector)  containing the eigenvalues, \n",
    "while la.eig[1] has the eigenvectors of $A$ as columns.  So we can extract the spectral information of A as follows:\n",
    "\n",
    "To define $A$ lets use np.diag to get some practice"
   ]
  },
  {
   "cell_type": "code",
   "execution_count": 32,
   "metadata": {},
   "outputs": [
    {
     "name": "stdout",
     "output_type": "stream",
     "text": [
      "[[ 0.  0. -1.  0.  0.]\n",
      " [ 0.  1.  0. -1.  0.]\n",
      " [-1.  0.  2.  0. -1.]\n",
      " [ 0. -1.  0.  3.  0.]\n",
      " [ 0.  0. -1.  0.  4.]]\n"
     ]
    }
   ],
   "source": [
    "v = np.arange(5)\n",
    "vv =np.ones(3)\n",
    "A = np.diag(v) - np.diag(vv,2) - np.diag(vv,-2) \n",
    "print(A)"
   ]
  },
  {
   "cell_type": "markdown",
   "metadata": {},
   "source": [
    "lets compute the eigenvalues/vectors and  pick the 2nd eigenvalues/vector pair.\n",
    "eigvv has all the information,\n",
    "eigvals condtains the eigenvalues\n",
    "eigvects condtains the eigenvectors\n",
    "ev2 and v2 are the second eigenvalue/eigenvector pair."
   ]
  },
  {
   "cell_type": "code",
   "execution_count": 21,
   "metadata": {},
   "outputs": [
    {
     "name": "stdout",
     "output_type": "stream",
     "text": [
      "[-9.99200722e-16-1.55431223e-15j  1.99840144e-15+1.44328993e-15j\n",
      " -5.55111512e-17+2.35922393e-16j -1.11022302e-16+6.10622664e-16j]\n"
     ]
    }
   ],
   "source": [
    "eigvv = la.eig(A)\n",
    "eigvals = eigvv[0]\n",
    "eigvecs = eigvv[1]\n",
    "ev2= eigval[2]\n",
    "v2 = eigvec[:,2]\n",
    "print(ev2*v2 - A@v2)"
   ]
  },
  {
   "cell_type": "code",
   "execution_count": null,
   "metadata": {},
   "outputs": [],
   "source": [
    "Finally, since the eigenvalues are not always stored in increasing order we have to search for the bottom eigenvalue. \n",
    "For this we can use \n",
    "\n",
    "np.min()\n",
    "\n",
    "returns the leftmost value (ie the minimum, if all the values are positive())\n",
    "\n",
    "np.argmin(v) \n",
    "\n",
    "returns the index where the min occurs\n"
   ]
  },
  {
   "cell_type": "code",
   "execution_count": 29,
   "metadata": {},
   "outputs": [
    {
     "data": {
      "text/plain": [
       "-2.0"
      ]
     },
     "execution_count": 29,
     "metadata": {},
     "output_type": "execute_result"
    }
   ],
   "source": [
    "v=np.array([1.1, 4.6, -2.0, 3.0])\n",
    "np.min(v)\n",
    "k=np.argmin(v)\n",
    "v[k]"
   ]
  },
  {
   "cell_type": "code",
   "execution_count": null,
   "metadata": {},
   "outputs": [],
   "source": []
  }
 ],
 "metadata": {
  "kernelspec": {
   "display_name": "Python 3",
   "language": "python",
   "name": "python3"
  },
  "language_info": {
   "codemirror_mode": {
    "name": "ipython",
    "version": 3
   },
   "file_extension": ".py",
   "mimetype": "text/x-python",
   "name": "python",
   "nbconvert_exporter": "python",
   "pygments_lexer": "ipython3",
   "version": "3.8.3"
  }
 },
 "nbformat": 4,
 "nbformat_minor": 4
}
