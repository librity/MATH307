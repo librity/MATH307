{
 "cells": [
  {
   "cell_type": "markdown",
   "metadata": {},
   "source": [
    "## QR Decomposition\n"
   ]
  },
  {
   "cell_type": "code",
   "execution_count": 1,
   "metadata": {},
   "outputs": [],
   "source": [
    "import numpy as np"
   ]
  },
  {
   "cell_type": "markdown",
   "metadata": {},
   "source": [
    "### QR decomposition using Gram-Schmidt"
   ]
  },
  {
   "cell_type": "code",
   "execution_count": 2,
   "metadata": {},
   "outputs": [],
   "source": [
    "a1 = np.array([1,0,1,1])\n",
    "a2 = np.array([0,2,0,3])\n",
    "a3 = np.array([-3,-1,1,5])\n",
    "A = np.array([a1,a2,a3]).T"
   ]
  },
  {
   "cell_type": "markdown",
   "metadata": {},
   "source": [
    "1. Step: Use Gram-Schmidt to find an orthonormal basis of the column space of A\n",
    "Remark: I do this here 'by hand' but there are many 'automated' version of Gram-Schmidt written in python. However, remember that Gram-Schmidt is very unstable numerically! Therefore in application where you want to find an orthonormal basis of the space spanned by some given vectors one should (from a numerical perspective) rather use the QR decomposition via Householder transformation to obtain such a basis (it is in the Q!)"
   ]
  },
  {
   "cell_type": "code",
   "execution_count": 3,
   "metadata": {},
   "outputs": [
    {
     "name": "stdout",
     "output_type": "stream",
     "text": [
      "v1=  [1 0 1 1] \n",
      "v2=  [-1.  2. -1.  2.] \n",
      "v3=  [-3. -3.  1.  2.]\n"
     ]
    }
   ],
   "source": [
    "# Finding an orthogonal basis\n",
    "v1 = a1 \n",
    "v2 = a2 - np.dot(v1,a2)/np.dot(v1,v1)*v1\n",
    "v3 = a3 - np.dot(v1,a3)/np.dot(v1,v1)*v1 - np.dot(v2,a3)/np.dot(v2,v2)*v2\n",
    "\n",
    "print(\"v1= \", v1, \"\\nv2= \",v2,\"\\nv3= \",v3)"
   ]
  },
  {
   "cell_type": "code",
   "execution_count": 4,
   "metadata": {},
   "outputs": [
    {
     "name": "stdout",
     "output_type": "stream",
     "text": [
      "w1=  [0.57735027 0.         0.57735027 0.57735027] \n",
      "w2=  [-0.31622777  0.63245553 -0.31622777  0.63245553] \n",
      "w3=  [-0.62554324 -0.62554324  0.20851441  0.41702883]\n"
     ]
    }
   ],
   "source": [
    "# Normalizing the basis\n",
    "v1_norm = np.sqrt(np.dot(v1,v1))\n",
    "v2_norm = np.sqrt(np.dot(v2,v2))\n",
    "v3_norm = np.sqrt(np.dot(v3,v3))\n",
    "\n",
    "w1 = 1/v1_norm*v1\n",
    "w2 = 1/v2_norm*v2\n",
    "w3 = 1/v3_norm*v3\n",
    "\n",
    "print(\"w1= \",w1,\"\\nw2= \",w2,\"\\nw3= \", w3)"
   ]
  },
  {
   "cell_type": "markdown",
   "metadata": {},
   "source": [
    "For comparison with the lecture notes: "
   ]
  },
  {
   "cell_type": "code",
   "execution_count": 5,
   "metadata": {},
   "outputs": [
    {
     "name": "stdout",
     "output_type": "stream",
     "text": [
      "1/np.sqrt(3):  0.5773502691896258\n",
      "1/np.sqrt(10):  0.31622776601683794\n",
      "1/np.sqrt(23):  0.20851441405707477\n"
     ]
    }
   ],
   "source": [
    "print(\"1/np.sqrt(3): \", 1/np.sqrt(3))\n",
    "print(\"1/np.sqrt(10): \", 1/np.sqrt(10))\n",
    "print(\"1/np.sqrt(23): \", 1/np.sqrt(23))"
   ]
  },
  {
   "cell_type": "markdown",
   "metadata": {},
   "source": [
    "2. Step: Construct matrices Q and R \n",
    "\n",
    "Note: Q and R here are named Q_1 and R_1 in the notes"
   ]
  },
  {
   "cell_type": "code",
   "execution_count": 6,
   "metadata": {},
   "outputs": [
    {
     "name": "stdout",
     "output_type": "stream",
     "text": [
      "Q: \n",
      " [[ 0.57735027 -0.31622777 -0.62554324]\n",
      " [ 0.          0.63245553 -0.62554324]\n",
      " [ 0.57735027 -0.31622777  0.20851441]\n",
      " [ 0.57735027  0.63245553  0.41702883]]\n"
     ]
    }
   ],
   "source": [
    "# Construct the matrix Q\n",
    "\n",
    "Q = np.array([w1,w2,w3]).T\n",
    "\n",
    "print(\"Q: \\n\",Q)"
   ]
  },
  {
   "cell_type": "markdown",
   "metadata": {},
   "source": [
    "There are two ways to get the matrix R: \n",
    "a) construct it as it is defined in the notes \n",
    "b) use that Q is orthogonal matrix and construct it via multiplication of Q.T@A"
   ]
  },
  {
   "cell_type": "code",
   "execution_count": 7,
   "metadata": {},
   "outputs": [
    {
     "name": "stdout",
     "output_type": "stream",
     "text": [
      "a) Matrix R: \n",
      " [[ 1.73205081e+00  1.73205081e+00  1.73205081e+00]\n",
      " [ 0.00000000e+00  3.16227766e+00  3.16227766e+00]\n",
      " [-5.55111512e-17  0.00000000e+00  4.79583152e+00]]\n",
      "b) Matrix Rb: \n",
      " [[ 1.73205081e+00  1.73205081e+00  1.73205081e+00]\n",
      " [ 0.00000000e+00  3.16227766e+00  3.16227766e+00]\n",
      " [-5.55111512e-17 -1.11022302e-16  4.79583152e+00]]\n"
     ]
    }
   ],
   "source": [
    "# Construct the matrix R (version a)\n",
    "Ra = np.array([[np.dot(w1,a1),np.dot(w1,a2),np.dot(w1,a3)],[np.dot(w2,a1),np.dot(w2,a2),np.dot(w2,a3)],[np.dot(w3,a1),np.dot(w3,a2),np.dot(w3,a3)]])\n",
    "\n",
    "print(\"a) Matrix R: \\n\", Ra)\n",
    "\n",
    "# Construct the matrix R (version b)\n",
    "Rb = Q.T@A\n",
    "\n",
    "print(\"b) Matrix Rb: \\n\", Rb)"
   ]
  },
  {
   "cell_type": "code",
   "execution_count": 8,
   "metadata": {},
   "outputs": [
    {
     "name": "stdout",
     "output_type": "stream",
     "text": [
      "QRa: \n",
      " [[ 1.00000000e+00  2.76921245e-16 -3.00000000e+00]\n",
      " [ 3.47246255e-17  2.00000000e+00 -1.00000000e+00]\n",
      " [ 1.00000000e+00  2.76921245e-16  1.00000000e+00]\n",
      " [ 1.00000000e+00  3.00000000e+00  5.00000000e+00]]\n"
     ]
    }
   ],
   "source": [
    "# Check that we did everything correct \n",
    "\n",
    "print(\"QRa: \\n\",Q@Ra)"
   ]
  },
  {
   "cell_type": "code",
   "execution_count": 9,
   "metadata": {},
   "outputs": [
    {
     "name": "stdout",
     "output_type": "stream",
     "text": [
      "QRb: \n",
      " [[ 1.00000000e+00  2.05937157e-16 -3.00000000e+00]\n",
      " [ 3.47246255e-17  2.00000000e+00 -1.00000000e+00]\n",
      " [ 1.00000000e+00  1.13338156e-16  1.00000000e+00]\n",
      " [ 1.00000000e+00  3.00000000e+00  5.00000000e+00]]\n"
     ]
    }
   ],
   "source": [
    "# Check that we did everything correct \n",
    "\n",
    "print(\"QRb: \\n\",Q@Rb)"
   ]
  },
  {
   "cell_type": "code",
   "execution_count": 10,
   "metadata": {},
   "outputs": [
    {
     "name": "stdout",
     "output_type": "stream",
     "text": [
      "true\n"
     ]
    }
   ],
   "source": [
    "# More numerical and not visual check of this: \n",
    "\n",
    "if np.abs((A - Q@Ra).sum()) < 1e-9 and np.abs((A - Q@Rb).sum()) < 1e-9:\n",
    "    print(\"true\")\n",
    "else:\n",
    "    print(\"false\")"
   ]
  },
  {
   "cell_type": "markdown",
   "metadata": {},
   "source": [
    "### QR-decomposition using Householder transformation \n",
    "\n",
    "scipy.linalg has a command for this scipy.linalg.qr(A) however we will again first do it by hand.\n",
    "\n",
    "Note that we will work here with column vectors a1, a2 and a3  and not with row vectors as in the Gram-Schmidt case"
   ]
  },
  {
   "cell_type": "markdown",
   "metadata": {},
   "source": [
    "1. Step: Construct $\\alpha_1$ and $u_1$ and find the elementary reflector $H_1$ for the first transformation"
   ]
  },
  {
   "cell_type": "code",
   "execution_count": 11,
   "metadata": {},
   "outputs": [
    {
     "name": "stdout",
     "output_type": "stream",
     "text": [
      "alpha1 = \n",
      " [-1.73205081]\n",
      "u1 = \n",
      " [[2.73205081]\n",
      " [0.        ]\n",
      " [1.        ]\n",
      " [1.        ]]\n",
      "H1 = \n",
      " [[-0.57735027  0.         -0.57735027 -0.57735027]\n",
      " [ 0.          1.          0.          0.        ]\n",
      " [-0.57735027  0.          0.78867513 -0.21132487]\n",
      " [-0.57735027  0.         -0.21132487  0.78867513]]\n"
     ]
    }
   ],
   "source": [
    "a1 = A[:,[0]]\n",
    "a1_norm = np.sqrt(sum(a1**2)) \n",
    "alpha1 = -np.sign(a1[0])*a1_norm\n",
    "print(\"alpha1 = \\n\", alpha1)\n",
    "e1=np.zeros_like(a1)\n",
    "e1[0] = 1\n",
    "u1 = a1 - alpha1*e1\n",
    "print(\"u1 = \\n\", u1)\n",
    "I = np.diag([1,1,1,1])\n",
    "u1_norm = np.sqrt(sum(u1**2))\n",
    "H1 = I - 2/u1_norm**2*u1@u1.T\n",
    "print(\"H1 = \\n\", H1)"
   ]
  },
  {
   "cell_type": "markdown",
   "metadata": {},
   "source": [
    "2. Step: Multiply the elementary reflector H1 from the left to the matrix A in order to zero out all the entries blow the first entry in the first column of A."
   ]
  },
  {
   "cell_type": "code",
   "execution_count": 12,
   "metadata": {},
   "outputs": [
    {
     "name": "stdout",
     "output_type": "stream",
     "text": [
      "A2= \n",
      " [[-1.73205081e+00 -1.73205081e+00 -1.73205081e+00]\n",
      " [ 0.00000000e+00  2.00000000e+00 -1.00000000e+00]\n",
      " [-1.11022302e-16 -6.33974596e-01  1.46410162e+00]\n",
      " [-1.11022302e-16  2.36602540e+00  5.46410162e+00]]\n"
     ]
    }
   ],
   "source": [
    "A2 = H1@A\n",
    "print(\"A2= \\n\",A2)"
   ]
  },
  {
   "cell_type": "markdown",
   "metadata": {},
   "source": [
    "3. Step: Do the first step for the second column of the new matrix A2."
   ]
  },
  {
   "cell_type": "code",
   "execution_count": 13,
   "metadata": {},
   "outputs": [
    {
     "name": "stdout",
     "output_type": "stream",
     "text": [
      "alpha2 = \n",
      " [-3.16227766]\n",
      "u2 = \n",
      " [[ 0.        ]\n",
      " [ 5.16227766]\n",
      " [-0.6339746 ]\n",
      " [ 2.3660254 ]]\n",
      "H2 = \n",
      " [[ 1.          0.          0.          0.        ]\n",
      " [ 0.         -0.63245553  0.20048037 -0.74820293]\n",
      " [ 0.          0.20048037  0.97537919  0.09188612]\n",
      " [ 0.         -0.74820293  0.09188612  0.65707634]]\n"
     ]
    }
   ],
   "source": [
    "# Get the second column of A2\n",
    "a2 = A2[:,[1]]\n",
    "# Set the first entry to zero, we do not want to change it\n",
    "a2[0] = 0\n",
    "# Calculate the norm\n",
    "a2_norm = np.sqrt(sum(a2**2)) \n",
    "# Get alpha2, note here we look at a2[1]!\n",
    "alpha2 = -np.sign(a2[1])*a2_norm\n",
    "print(\"alpha2 = \\n\", alpha2)\n",
    "# Construct e2\n",
    "e2=np.zeros_like(a2)\n",
    "e2[1] = 1\n",
    "# and u2\n",
    "u2 = a2 - alpha2*e2\n",
    "print(\"u2 = \\n\", u2)\n",
    "I = np.diag([1,1,1,1])\n",
    "u2_norm = np.sqrt(sum(u2**2))\n",
    "H2 = I - 2/u2_norm**2*u2@u2.T\n",
    "print(\"H2 = \\n\", H2)"
   ]
  },
  {
   "cell_type": "markdown",
   "metadata": {},
   "source": [
    "4. Step: Do step two with the elementary reflector H2 and the matrix A2."
   ]
  },
  {
   "cell_type": "code",
   "execution_count": 14,
   "metadata": {},
   "outputs": [
    {
     "name": "stdout",
     "output_type": "stream",
     "text": [
      "A3=  [[-1.73205081e+00 -1.73205081e+00 -1.73205081e+00]\n",
      " [ 6.08094194e-17 -3.16227766e+00 -3.16227766e+00]\n",
      " [-1.18490252e-16 -3.95601797e-17  1.72964896e+00]\n",
      " [-8.31515368e-17  9.99706890e-17  4.47306545e+00]]\n"
     ]
    }
   ],
   "source": [
    "A3=H2@A2\n",
    "print(\"A3= \",A3)"
   ]
  },
  {
   "cell_type": "markdown",
   "metadata": {},
   "source": [
    "5. Step: Do the first step for the third column of the new matrix A3."
   ]
  },
  {
   "cell_type": "code",
   "execution_count": 15,
   "metadata": {},
   "outputs": [
    {
     "name": "stdout",
     "output_type": "stream",
     "text": [
      "alpha3 = \n",
      " [-4.79583152]\n",
      "u3 = \n",
      " [[0.        ]\n",
      " [0.        ]\n",
      " [6.52548048]\n",
      " [4.47306545]]\n",
      "H3 = \n",
      " [[ 1.          0.          0.          0.        ]\n",
      " [ 0.          1.          0.          0.        ]\n",
      " [ 0.          0.         -0.36065674 -0.93269862]\n",
      " [ 0.          0.         -0.93269862  0.36065674]]\n"
     ]
    }
   ],
   "source": [
    "# Get the second column of A2\n",
    "a3 = A3[:,[2]]\n",
    "# Set the first entry to zero, we do not want to change it\n",
    "a3[0] = 0\n",
    "a3[1] = 0\n",
    "# Calculate the norm\n",
    "a3_norm = np.sqrt(sum(a3**2)) \n",
    "# Get alpha2, note here we look at a3[2]!\n",
    "alpha3 = -np.sign(a3[2])*a3_norm\n",
    "print(\"alpha3 = \\n\", alpha3)\n",
    "# Construct e3\n",
    "e3=np.zeros_like(a3)\n",
    "e3[2] = 1\n",
    "# and u3\n",
    "u3 = a3 - alpha3*e3\n",
    "print(\"u3 = \\n\", u3)\n",
    "I = np.diag([1,1,1,1])\n",
    "u3_norm = np.sqrt(sum(u3**2))\n",
    "H3 = I - 2/u3_norm**2*u3@u3.T\n",
    "print(\"H3 = \\n\", H3)"
   ]
  },
  {
   "cell_type": "markdown",
   "metadata": {},
   "source": [
    "6. Step: Construct R and Q"
   ]
  },
  {
   "cell_type": "code",
   "execution_count": 16,
   "metadata": {},
   "outputs": [
    {
     "name": "stdout",
     "output_type": "stream",
     "text": [
      "R= \n",
      " [[-1.73205081e+00 -1.73205081e+00 -1.73205081e+00]\n",
      " [ 6.08094194e-17 -3.16227766e+00 -3.16227766e+00]\n",
      " [ 1.20289631e-16 -7.89748783e-17 -4.79583152e+00]\n",
      " [ 8.05265322e-17  7.29528277e-17 -8.90386688e-16]]\n"
     ]
    }
   ],
   "source": [
    "R=H3@A3\n",
    "print(\"R= \\n\",R)"
   ]
  },
  {
   "cell_type": "markdown",
   "metadata": {},
   "source": [
    "We see, up to numerical error, we have found an upper triangular matrix $R$. The orthogonal matrix $Q = H1\\, H2\\,H3$."
   ]
  },
  {
   "cell_type": "code",
   "execution_count": 17,
   "metadata": {},
   "outputs": [
    {
     "name": "stdout",
     "output_type": "stream",
     "text": [
      "Q= \n",
      " [[-0.57735027  0.31622777  0.62554324  0.41876284]\n",
      " [ 0.         -0.63245553  0.62554324 -0.45683219]\n",
      " [-0.57735027  0.31622777 -0.20851441 -0.72331764]\n",
      " [-0.57735027 -0.63245553 -0.41702883  0.3045548 ]]\n"
     ]
    }
   ],
   "source": [
    "Q = H1@H2@H3\n",
    "print(\"Q= \\n\",Q)"
   ]
  },
  {
   "cell_type": "code",
   "execution_count": 18,
   "metadata": {},
   "outputs": [
    {
     "name": "stdout",
     "output_type": "stream",
     "text": [
      "QR = \n",
      " [[ 1.00000000e+00  4.80113582e-16 -3.00000000e+00]\n",
      " [ 3.55543437e-33  2.00000000e+00 -1.00000000e+00]\n",
      " [ 1.00000000e+00  2.40620578e-16  1.00000000e+00]\n",
      " [ 1.00000000e+00  3.00000000e+00  5.00000000e+00]]\n",
      "A= \n",
      " [[ 1  0 -3]\n",
      " [ 0  2 -1]\n",
      " [ 1  0  1]\n",
      " [ 1  3  5]]\n"
     ]
    }
   ],
   "source": [
    "print(\"QR = \\n\",Q@R)\n",
    "print(\"A= \\n\",A)"
   ]
  },
  {
   "cell_type": "markdown",
   "metadata": {},
   "source": [
    "Hence we have found a QR decomposition of A via Householder transformations by hand. Now lets see how it works with with command scypi.qr(A)"
   ]
  },
  {
   "cell_type": "code",
   "execution_count": 19,
   "metadata": {},
   "outputs": [
    {
     "name": "stdout",
     "output_type": "stream",
     "text": [
      "q= \n",
      " [[-0.57735027  0.31622777  0.62554324  0.41876284]\n",
      " [-0.         -0.63245553  0.62554324 -0.45683219]\n",
      " [-0.57735027  0.31622777 -0.20851441 -0.72331764]\n",
      " [-0.57735027 -0.63245553 -0.41702883  0.3045548 ]]\n",
      "r= \n",
      " [[-1.73205081 -1.73205081 -1.73205081]\n",
      " [ 0.         -3.16227766 -3.16227766]\n",
      " [ 0.          0.         -4.79583152]\n",
      " [ 0.          0.          0.        ]]\n",
      "qr= \n",
      " [[ 1.00000000e+00  4.41068322e-16 -3.00000000e+00]\n",
      " [ 0.00000000e+00  2.00000000e+00 -1.00000000e+00]\n",
      " [ 1.00000000e+00  8.99849747e-17  1.00000000e+00]\n",
      " [ 1.00000000e+00  3.00000000e+00  5.00000000e+00]]\n",
      "A= \n",
      " [[ 1  0 -3]\n",
      " [ 0  2 -1]\n",
      " [ 1  0  1]\n",
      " [ 1  3  5]]\n"
     ]
    }
   ],
   "source": [
    "import scipy.linalg as la\n",
    "\n",
    "(q,r) = la.qr(A,mode='full')\n",
    "print(\"q= \\n\",q)\n",
    "print(\"r= \\n\",r)\n",
    "print(\"qr= \\n\",q@r)\n",
    "print(\"A= \\n\",A)"
   ]
  },
  {
   "cell_type": "markdown",
   "metadata": {},
   "source": [
    "If we have by matrices the *full* mode might be to computational intensive. Therefore often the *economic* mode is used."
   ]
  },
  {
   "cell_type": "code",
   "execution_count": 20,
   "metadata": {},
   "outputs": [
    {
     "name": "stdout",
     "output_type": "stream",
     "text": [
      "q1= \n",
      " [[-0.57735027  0.31622777  0.62554324]\n",
      " [-0.         -0.63245553  0.62554324]\n",
      " [-0.57735027  0.31622777 -0.20851441]\n",
      " [-0.57735027 -0.63245553 -0.41702883]]\n",
      "r1= \n",
      " [[-1.73205081 -1.73205081 -1.73205081]\n",
      " [ 0.         -3.16227766 -3.16227766]\n",
      " [ 0.          0.         -4.79583152]]\n",
      "q1r1= \n",
      " [[ 1.00000000e+00  4.41068322e-16 -3.00000000e+00]\n",
      " [ 0.00000000e+00  2.00000000e+00 -1.00000000e+00]\n",
      " [ 1.00000000e+00  8.99849747e-17  1.00000000e+00]\n",
      " [ 1.00000000e+00  3.00000000e+00  5.00000000e+00]]\n",
      "A= \n",
      " [[ 1  0 -3]\n",
      " [ 0  2 -1]\n",
      " [ 1  0  1]\n",
      " [ 1  3  5]]\n"
     ]
    }
   ],
   "source": [
    "(q1,r1) = la.qr(A,mode='economic')\n",
    "print(\"q1= \\n\",q1)\n",
    "print(\"r1= \\n\",r1)\n",
    "print(\"q1r1= \\n\",q1@r1)\n",
    "print(\"A= \\n\",A)"
   ]
  },
  {
   "cell_type": "markdown",
   "metadata": {},
   "source": [
    "With this mode we obtain matrices $q1$ and $r1$ that correspond to the matrices $Q_1$ and $R_1$ in the definition of QR decomposition in Patrick Walls notes."
   ]
  }
 ],
 "metadata": {
  "kernelspec": {
   "display_name": "Python 3",
   "language": "python",
   "name": "python3"
  },
  "language_info": {
   "codemirror_mode": {
    "name": "ipython",
    "version": 3
   },
   "file_extension": ".py",
   "mimetype": "text/x-python",
   "name": "python",
   "nbconvert_exporter": "python",
   "pygments_lexer": "ipython3",
   "version": "3.8.6"
  }
 },
 "nbformat": 4,
 "nbformat_minor": 4
}
