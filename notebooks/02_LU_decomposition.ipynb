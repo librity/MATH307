{
 "cells": [
  {
   "cell_type": "markdown",
   "metadata": {},
   "source": [
    "# LU Decomposition"
   ]
  },
  {
   "cell_type": "code",
   "execution_count": 1,
   "metadata": {},
   "outputs": [],
   "source": [
    "import numpy as np\n",
    "import scipy.linalg as la\n",
    "import matplotlib.pyplot as plt"
   ]
  },
  {
   "cell_type": "markdown",
   "metadata": {},
   "source": [
    "Any matrix $A$ has decomposition of the form $A = PLU$ where\n",
    "\n",
    "* $P$ is a permutation matrix\n",
    "* $L$ is unit lower triangular\n",
    "* $U$ is upper triangular\n",
    "\n",
    "This is called the LU decomposition with partial pivoting."
   ]
  },
  {
   "cell_type": "markdown",
   "metadata": {},
   "source": [
    "## Example 1\n",
    "\n",
    "Find a decomposition $A = LU$ for\n",
    "\n",
    "$$\n",
    "A = \\begin{bmatrix} 2 & 1 & 1 \\\\ 2 & 0 & 2 \\\\ 4 & 3 & 4 \\end{bmatrix}\n",
    "$$\n",
    "\n",
    "using Gaussian elimination without pivoting and compare to the LU decomposition with partial pivoting computed by `scipy.linalg.lu`.\n",
    "\n",
    "First, let us comute by hand:\n",
    "\n",
    "$$\n",
    "\\begin{align*}\n",
    "\\begin{bmatrix} \\phantom{-}1 & 0 & 0 \\\\ -1 & 1 & 0 \\\\ -2 & 0 & 1 \\end{bmatrix}\n",
    "\\begin{bmatrix} 2 & 1 & 1 \\\\ 2 & 0 & 2 \\\\ 4 & 3 & 4 \\end{bmatrix}\n",
    "&=\n",
    "\\left[ \\begin{array}{rrr} 2 & 1 & 1 \\\\ 0 & -1 & \\phantom{+}1 \\\\ 0 & 1 & 2 \\end{array} \\right] \\\\\n",
    "\\begin{bmatrix} 1 & 0 & 0 \\\\ 0 & 1 & 0 \\\\ 0 & 1 & 1 \\end{bmatrix}\n",
    "\\left[ \\begin{array}{rrr} 2 & 1 & 1 \\\\ 0 & -1 & \\phantom{+}1 \\\\ 0 & 1 & 2 \\end{array} \\right]\n",
    "&=\n",
    "\\left[ \\begin{array}{rrr} 2 & 1 & 1 \\\\ 0 & -1 & \\phantom{+}1 \\\\ 0 & 0 & 3 \\end{array} \\right]\n",
    "\\end{align*}\n",
    "$$\n",
    "\n",
    "Therefore $A = LU$ with\n",
    "\n",
    "$$\n",
    "L = \\left[ \\begin{array}{rrr} 1 & 0 & 0 \\\\ 1 & 1 & 0 \\\\ 2 & -1 & \\phantom{+}1 \\end{array} \\right]\n",
    "\\hspace{10mm}\n",
    "U = \\left[ \\begin{array}{rrr} 2 & 1 & 1 \\\\ 0 & -1 & \\phantom{+}1 \\\\ 0 & 0 & 3 \\end{array} \\right]\n",
    "$$\n",
    "\n",
    "$$\n",
    "\\begin{align*}\n",
    "L_2 L_1 A &= U \\\\\n",
    "A &= L_1^{-1} L_2^{-1} U \\\\\n",
    "A &= LU\n",
    "\\end{align*}\n",
    "$$\n",
    "\n",
    "where $L = L_1^{-1} L_2^{-1}$."
   ]
  },
  {
   "cell_type": "markdown",
   "metadata": {},
   "source": [
    "Let's verify the result:"
   ]
  },
  {
   "cell_type": "code",
   "execution_count": 3,
   "metadata": {},
   "outputs": [
    {
     "name": "stdout",
     "output_type": "stream",
     "text": [
      "[[ 1  0  0]\n",
      " [ 1  1  0]\n",
      " [ 2 -1  1]]\n"
     ]
    }
   ],
   "source": [
    "L = np.array([[1,0,0],[1,1,0],[2,-1,1]])\n",
    "print(L)"
   ]
  },
  {
   "cell_type": "code",
   "execution_count": 4,
   "metadata": {},
   "outputs": [
    {
     "name": "stdout",
     "output_type": "stream",
     "text": [
      "[[ 2  1  1]\n",
      " [ 0 -1  1]\n",
      " [ 0  0  3]]\n"
     ]
    }
   ],
   "source": [
    "U = np.array([[2,1,1],[0,-1,1],[0,0,3]])\n",
    "print(U)"
   ]
  },
  {
   "cell_type": "code",
   "execution_count": 5,
   "metadata": {},
   "outputs": [
    {
     "data": {
      "text/plain": [
       "array([[2, 1, 1],\n",
       "       [2, 0, 2],\n",
       "       [4, 3, 4]])"
      ]
     },
     "execution_count": 5,
     "metadata": {},
     "output_type": "execute_result"
    }
   ],
   "source": [
    "L @ U"
   ]
  },
  {
   "cell_type": "markdown",
   "metadata": {},
   "source": [
    "Now compute with [`scipy.linalg.lu`](https://docs.scipy.org/doc/scipy/reference/generated/scipy.linalg.lu.html)."
   ]
  },
  {
   "cell_type": "code",
   "execution_count": 14,
   "metadata": {},
   "outputs": [],
   "source": [
    "A = np.array([[2,1,1],[2,0,2],[4,3,4]])\n",
    "p,l,u = la.lu(A)"
   ]
  },
  {
   "cell_type": "code",
   "execution_count": 15,
   "metadata": {},
   "outputs": [
    {
     "name": "stdout",
     "output_type": "stream",
     "text": [
      "[[0. 0. 1.]\n",
      " [0. 1. 0.]\n",
      " [1. 0. 0.]]\n"
     ]
    }
   ],
   "source": [
    "print(p)"
   ]
  },
  {
   "cell_type": "code",
   "execution_count": 16,
   "metadata": {},
   "outputs": [
    {
     "name": "stdout",
     "output_type": "stream",
     "text": [
      "[[1.         0.         0.        ]\n",
      " [0.5        1.         0.        ]\n",
      " [0.5        0.33333333 1.        ]]\n"
     ]
    }
   ],
   "source": [
    "print(l)"
   ]
  },
  {
   "cell_type": "code",
   "execution_count": 17,
   "metadata": {},
   "outputs": [
    {
     "name": "stdout",
     "output_type": "stream",
     "text": [
      "[[ 4.   3.   4. ]\n",
      " [ 0.  -1.5  0. ]\n",
      " [ 0.   0.  -1. ]]\n"
     ]
    }
   ],
   "source": [
    "print(u)"
   ]
  },
  {
   "cell_type": "code",
   "execution_count": 18,
   "metadata": {},
   "outputs": [
    {
     "data": {
      "text/plain": [
       "array([[2., 1., 1.],\n",
       "       [2., 0., 2.],\n",
       "       [4., 3., 4.]])"
      ]
     },
     "execution_count": 18,
     "metadata": {},
     "output_type": "execute_result"
    }
   ],
   "source": [
    "p@l@u"
   ]
  },
  {
   "cell_type": "markdown",
   "metadata": {},
   "source": [
    "With partial pivoting the matrix $L$ always has entries with absolute value less than or equal to 1 in the lower left. That is, $|\\ell_{i,j}| \\leq 1$ for $i > j$ where $\\ell_{i,j}$ is the entry of $L$ in row $i$ and column $j$."
   ]
  },
  {
   "cell_type": "markdown",
   "metadata": {},
   "source": [
    "## Example 2\n",
    "\n",
    "The $N$ by $N$ matrix\n",
    "\n",
    "$$\n",
    "A = \n",
    "\\left[\n",
    "\\begin{array}{cccccccc}\n",
    "2 & -1 & 0 & 0 & \\cdots & 0 & 0 & 0 \\\\\n",
    "-1 & 2 & -1 & 0 & & 0 & 0  & 0 \\\\\n",
    "0 & -1 & 2 & -1 & \\cdots & 0 & 0 & 0 \\\\\n",
    "\\vdots &  & \\vdots &  & \\ddots & & \\vdots & \\\\\n",
    "0 & 0 & 0 & 0 & \\cdots & -1 & 2 & -1 \\\\\n",
    "0 & 0 & 0 & 0 & \\cdots & 0 & -1 & 2 \\\\\n",
    "\\end{array}\n",
    "\\right]\n",
    "$$\n",
    "\n",
    "is symmetric positive definite. Compute the solution of the system $A \\mathbf{x} = \\mathbf{b}$ for\n",
    "\n",
    "$$\n",
    "\\mathbf{b} = \\left[ \\begin{array}{r} 1 \\\\ \\vdots \\\\ 1 \\end{array} \\right]\n",
    "$$\n",
    "\n",
    "by computing the Cholesky decomposition and using the function `scipy.linalg.solve_triangular`."
   ]
  },
  {
   "cell_type": "code",
   "execution_count": 4,
   "metadata": {},
   "outputs": [],
   "source": [
    "N = 20\n",
    "A1 = 2*np.eye(N)\n",
    "A2 = np.diag(-np.ones(N-1),1)\n",
    "A = A1 + A2 + A2.T"
   ]
  },
  {
   "cell_type": "code",
   "execution_count": 5,
   "metadata": {},
   "outputs": [
    {
     "data": {
      "image/png": "[encoded data removed]",
      "text/plain": [
       "<Figure size 432x288 with 2 Axes>"
      ]
     },
     "metadata": {
      "needs_background": "light"
     },
     "output_type": "display_data"
    }
   ],
   "source": [
    "plt.imshow(A,cmap='winter')\n",
    "plt.colorbar()\n",
    "plt.show()"
   ]
  },
  {
   "cell_type": "markdown",
   "metadata": {},
   "source": [
    "Check the documentation for [`scipy.linalg.cholesky`](https://docs.scipy.org/doc/scipy/reference/generated/scipy.linalg.cholesky.html). The function returns an upper triangular matrix $U$."
   ]
  },
  {
   "cell_type": "code",
   "execution_count": 10,
   "metadata": {},
   "outputs": [],
   "source": [
    "U = la.cholesky(A)"
   ]
  },
  {
   "cell_type": "code",
   "execution_count": 11,
   "metadata": {},
   "outputs": [
    {
     "data": {
      "image/png": "[encoded data removed]",
      "text/plain": [
       "<Figure size 432x288 with 2 Axes>"
      ]
     },
     "metadata": {
      "needs_background": "light"
     },
     "output_type": "display_data"
    }
   ],
   "source": [
    "plt.imshow(U,cmap='winter')\n",
    "plt.colorbar()\n",
    "plt.show()"
   ]
  },
  {
   "cell_type": "markdown",
   "metadata": {},
   "source": [
    "Solve the system:"
   ]
  },
  {
   "cell_type": "code",
   "execution_count": 12,
   "metadata": {},
   "outputs": [
    {
     "data": {
      "image/png": "[encoded data removed]",
      "text/plain": [
       "<Figure size 432x288 with 1 Axes>"
      ]
     },
     "metadata": {
      "needs_background": "light"
     },
     "output_type": "display_data"
    }
   ],
   "source": [
    "b = np.ones([N,1])\n",
    "y = la.solve_triangular(U.T,b,lower=True)\n",
    "x = la.solve_triangular(U,y,lower=False)\n",
    "plt.plot(x,'b.')\n",
    "plt.show()"
   ]
  }
 ],
 "metadata": {
  "kernelspec": {
   "display_name": "Python 3",
   "language": "python",
   "name": "python3"
  },
  "language_info": {
   "codemirror_mode": {
    "name": "ipython",
    "version": 3
   },
   "file_extension": ".py",
   "mimetype": "text/x-python",
   "name": "python",
   "nbconvert_exporter": "python",
   "pygments_lexer": "ipython3",
   "version": "3.7.6"
  }
 },
 "nbformat": 4,
 "nbformat_minor": 4
}
