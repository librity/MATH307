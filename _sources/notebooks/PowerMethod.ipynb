{
 "cells": [
  {
   "cell_type": "markdown",
   "metadata": {},
   "source": [
    "# Computing Eigenvalues"
   ]
  },
  {
   "cell_type": "code",
   "execution_count": 1,
   "metadata": {},
   "outputs": [],
   "source": [
    "import numpy as np\n",
    "import scipy.linalg as la\n",
    "import matplotlib.pyplot as plt"
   ]
  },
  {
   "cell_type": "markdown",
   "metadata": {},
   "source": [
    "## Power Iteration\n",
    "\n",
    "Suppose a matrix $A$ has a dominant eigenvalue $\\lambda_1$. This means that $\\lambda_1$ has multiplicity 1 and $| \\lambda_1 | > | \\lambda |$ for all other eignvalues $\\lambda$. Choose a random vector $\\mathbf{x}_0$ and compute the (normalized) power iteration algorithm:\n",
    "\n",
    "$$\n",
    "\\mathbf{x}_{k+1} = \\frac{A \\mathbf{x}_k}{\\| A \\mathbf{x}_k \\|_{\\infty}}\n",
    "$$\n",
    "\n",
    "The result (usually) converges to an eigenvector for $\\lambda_1$. Let us implement the algorithm with pauses at each iteration so that we can see the vector $\\mathbf{x}_k$ at each step."
   ]
  },
  {
   "cell_type": "code",
   "execution_count": 2,
   "metadata": {},
   "outputs": [
    {
     "name": "stdout",
     "output_type": "stream",
     "text": [
      "\n",
      "Iteration k=0\n",
      "\n",
      "xk =\n",
      "\n",
      "[[1]\n",
      " [0]\n",
      " [0]]\n",
      "\n",
      "Iteration k=1\n",
      "\n",
      "xk =\n",
      "\n",
      "[[1.]\n",
      " [1.]\n",
      " [0.]]\n",
      "\n",
      "Iteration k=2\n",
      "\n",
      "xk =\n",
      "\n",
      "[[1. ]\n",
      " [1. ]\n",
      " [0.5]]\n",
      "\n",
      "Iteration k=3\n",
      "\n",
      "xk =\n",
      "\n",
      "[[0.8]\n",
      " [1. ]\n",
      " [0.6]]\n",
      "\n",
      "Iteration k=4\n",
      "\n",
      "xk =\n",
      "\n",
      "[[0.75      ]\n",
      " [1.        ]\n",
      " [0.66666667]]\n",
      "\n",
      "Iteration k=5\n",
      "\n",
      "xk =\n",
      "\n",
      "[[0.72413793]\n",
      " [1.        ]\n",
      " [0.68965517]]\n"
     ]
    }
   ],
   "source": [
    "import time\n",
    "\n",
    "A = np.array([[1,1,0],[1,1,1],[0,1,1]])\n",
    "x0 = np.array([[1],[0],[0]])\n",
    "iterations = 5\n",
    "print('\\nIteration k=0\\n\\nxk =\\n\\n{}'.format(x0))\n",
    "\n",
    "xk = x0\n",
    "for k in range(1,iterations+1):\n",
    "    xk = A@xk\n",
    "    xk = xk/np.max(np.abs(xk))\n",
    "    print('\\nIteration k={0}\\n\\nxk =\\n\\n{1}'.format(k,xk))\n",
    "    time.sleep(1)"
   ]
  },
  {
   "cell_type": "markdown",
   "metadata": {},
   "source": [
    "Now let us implement the method without pauses and increase the number of iterations."
   ]
  },
  {
   "cell_type": "code",
   "execution_count": 6,
   "metadata": {},
   "outputs": [
    {
     "name": "stdout",
     "output_type": "stream",
     "text": [
      "[[0.70710681]\n",
      " [1.        ]\n",
      " [0.70710675]]\n"
     ]
    }
   ],
   "source": [
    "A = np.array([[1,1,0],[1,1,1],[0,1,1]])\n",
    "x0 = np.array([[1],[0],[0]])\n",
    "iterations = 20\n",
    "xk = x0\n",
    "\n",
    "for k in range(0,iterations):\n",
    "    xk = A@xk\n",
    "    xk = xk/np.max(np.abs(xk))\n",
    "\n",
    "print(xk)"
   ]
  },
  {
   "cell_type": "markdown",
   "metadata": {},
   "source": [
    "Compute the Rayleigh quotient to approximate the corresponding eigenvalue:"
   ]
  },
  {
   "cell_type": "code",
   "execution_count": 7,
   "metadata": {},
   "outputs": [
    {
     "data": {
      "text/plain": [
       "array([[2.41421356]])"
      ]
     },
     "execution_count": 7,
     "metadata": {},
     "output_type": "execute_result"
    }
   ],
   "source": [
    "xk.T @ A @ xk / (xk.T @ xk)"
   ]
  },
  {
   "cell_type": "markdown",
   "metadata": {},
   "source": [
    "Compare to the function `scipy.linalg.eig`."
   ]
  },
  {
   "cell_type": "code",
   "execution_count": 8,
   "metadata": {},
   "outputs": [],
   "source": [
    "evals,evecs = la.eig(A)"
   ]
  },
  {
   "cell_type": "code",
   "execution_count": 9,
   "metadata": {},
   "outputs": [
    {
     "name": "stdout",
     "output_type": "stream",
     "text": [
      "[-0.41421356+0.j  1.        +0.j  2.41421356+0.j]\n"
     ]
    }
   ],
   "source": [
    "print(evals)"
   ]
  },
  {
   "cell_type": "code",
   "execution_count": 10,
   "metadata": {},
   "outputs": [
    {
     "name": "stdout",
     "output_type": "stream",
     "text": [
      "[[ 5.00000000e-01  7.07106781e-01  5.00000000e-01]\n",
      " [-7.07106781e-01  4.90926744e-16  7.07106781e-01]\n",
      " [ 5.00000000e-01 -7.07106781e-01  5.00000000e-01]]\n"
     ]
    }
   ],
   "source": [
    "print(evecs)"
   ]
  },
  {
   "cell_type": "markdown",
   "metadata": {},
   "source": [
    "Indeed, power iteration produces an approximation of the eigenvector for eigenvalue $\\lambda_1 = 1 + \\sqrt{2}$."
   ]
  },
  {
   "cell_type": "markdown",
   "metadata": {},
   "source": [
    "## Inverse Iteration\n",
    "\n",
    "Suppose matrix $A$ is invertible. Then the smallest eigenvalue $\\lambda_n$ (in absolute value) of $A$ corresponds to  the dominant eigenvalue $1/\\lambda_n$ of $A^{-1}$. Choose a random vector $\\mathbf{x}_0$ and compute the (normalized) inverse iteration algorithm:\n",
    "\n",
    "$$\n",
    "A \\tilde{\\mathbf{x}}_{k+1} = \\mathbf{x}_k \\\\\n",
    "\\mathbf{x}_{k+1} = \\tilde{\\mathbf{x}}_k / \\| \\tilde{\\mathbf{x}}_{k+1} \\|_{\\infty}\n",
    "$$\n",
    "\n",
    "The result (usually) converges to an eigenvector for $A$ for $\\lambda_n$ (which is also an eigenvector for $A^{-1}$ for $1/\\lambda_n$). Let us implement the algorithm."
   ]
  },
  {
   "cell_type": "code",
   "execution_count": 11,
   "metadata": {},
   "outputs": [
    {
     "name": "stdout",
     "output_type": "stream",
     "text": [
      "[[ 0.50000002]\n",
      " [-0.70710678]\n",
      " [ 0.49999998]]\n"
     ]
    }
   ],
   "source": [
    "A = np.array([[1,1,0],[1,1,1],[0,1,1]])\n",
    "x0 = np.array([[1],[0],[0]])\n",
    "iterations = 20\n",
    "xk = x0\n",
    "LU,P = la.lu_factor(A)\n",
    "\n",
    "for k in range(0,iterations):\n",
    "    xk = la.lu_solve((LU,P),xk)\n",
    "    xk = xk/np.max(np.abs(xk))\n",
    "\n",
    "print(xk/la.norm(xk))"
   ]
  },
  {
   "cell_type": "markdown",
   "metadata": {},
   "source": [
    "This is the eigenvector for $A$ for $\\lambda = 1 - \\sqrt{2}$."
   ]
  },
  {
   "cell_type": "markdown",
   "metadata": {},
   "source": [
    "## Random matrices\n",
    "\n",
    "Let us implement the power iteration method for $B^TB$ for a random matrix $B$ of size $N$. Since $B^TB$ is symmetric we know the eigenvalues are real. Compute the Rayleigh quotient of the result and compare with the function `scipy.linalg.eig`."
   ]
  },
  {
   "cell_type": "code",
   "execution_count": null,
   "metadata": {},
   "outputs": [],
   "source": [
    "N = 100\n",
    "B = np.random.randn(N,N)\n",
    "A = B.T@B\n",
    "x0 = np.random.randn(N,1)\n",
    "iterations = 150\n",
    "xk = x0\n",
    "\n",
    "for k in range(0,iterations):\n",
    "    xk = A@xk\n",
    "    xk = xk/np.max(np.abs(xk))\n",
    "\n",
    "lambda_1 = xk.T@A@xk/(xk.T@xk)\n",
    "print(\"Power method: \", lambda_1[0,0])\n",
    "\n",
    "evals,evecs = la.eig(A)\n",
    "print(\"SciPy: \", np.max(np.abs(evals.real)))"
   ]
  },
  {
   "cell_type": "markdown",
   "metadata": {},
   "source": [
    "The result is pretty good for 150 iterations!"
   ]
  },
  {
   "cell_type": "markdown",
   "metadata": {},
   "source": [
    "## QR Iteration\n",
    "\n",
    "Start with $A_0 = A$, for each step $k$, compute the QR decomposition $A_k = Q_k R_k$, define $A_{k+1} = R_k Q_k$ and repeat. The matrices $A_k$ are similar therefore they have the same eigenvalues. The result is an upper (block) triangular matrix with eigenvalues on the diagonal."
   ]
  },
  {
   "cell_type": "code",
   "execution_count": null,
   "metadata": {},
   "outputs": [],
   "source": [
    "A = np.array([[1,1,0],[1,1,1],[0,1,1]])\n",
    "iterations = 5\n",
    "print('\\nIteration k=0\\n\\nA =\\n\\n{}'.format(A))\n",
    "\n",
    "Ak = A\n",
    "for k in range(1,iterations+1):\n",
    "    Q,R = la.qr(Ak)\n",
    "    Ak = R@Q\n",
    "    print('\\nIteration k={0}\\n\\nAk =\\n\\n{1}'.format(k,Ak))\n",
    "    time.sleep(1)"
   ]
  },
  {
   "cell_type": "markdown",
   "metadata": {},
   "source": [
    "Let us implement the method without pauses and increase the number of iterations."
   ]
  },
  {
   "cell_type": "code",
   "execution_count": null,
   "metadata": {},
   "outputs": [],
   "source": [
    "A = np.array([[1,1,0],[1,1,1],[0,1,1]])\n",
    "iterations = 50\n",
    "Ak = A\n",
    "\n",
    "for k in range(0,iterations):\n",
    "    Q,R = la.qr(Ak)\n",
    "    Ak = R@Q\n",
    "\n",
    "print(Ak)"
   ]
  },
  {
   "cell_type": "markdown",
   "metadata": {},
   "source": [
    "We can see the eigenvalues on the diagonal of the matrix $A_k$."
   ]
  }
 ],
 "metadata": {
  "kernelspec": {
   "display_name": "Python 3",
   "language": "python",
   "name": "python3"
  },
  "language_info": {
   "codemirror_mode": {
    "name": "ipython",
    "version": 3
   },
   "file_extension": ".py",
   "mimetype": "text/x-python",
   "name": "python",
   "nbconvert_exporter": "python",
   "pygments_lexer": "ipython3",
   "version": "3.8.6"
  }
 },
 "nbformat": 4,
 "nbformat_minor": 4
}
