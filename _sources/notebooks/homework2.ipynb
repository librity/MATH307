{
 "cells": [
  {
   "cell_type": "markdown",
   "metadata": {},
   "source": [
    "# MATH 307 Homework 2 (Part 2)\n",
    "\n",
    "### Instructions\n",
    "\n",
    "* There are 3 exercises and 35 total points.\n",
    "* Write your solutions in the cells below.\n",
    "* You may work on these problems with others but you must write your solutions on your own.\n",
    "* Execute the test cells to verify that your solutions pass.\n",
    "* **Grading includes hidden tests!** Your solution may not be completely correct even if it passes all tests below.\n",
    "* Make sure your notebook executes correctly in order from top to bottom.\n",
    "* Submit this notebook to Canvas."
   ]
  },
  {
   "cell_type": "code",
   "execution_count": null,
   "metadata": {},
   "outputs": [],
   "source": [
    "import numpy as np\n",
    "import scipy.linalg as la\n",
    "import matplotlib.pyplot as plt\n",
    "from sklearn import datasets\n",
    "import networkx as nx"
   ]
  },
  {
   "cell_type": "markdown",
   "metadata": {},
   "source": [
    "## Exercise 1: Principal Component Analysis\n",
    "\n",
    "The following code imports the digits dataset from [sklearn](https://scikit-learn.org/stable/) and selects the subset of the data correpsonding to the digit `9`.\n",
    "\n",
    "    data = datasets.load_digits()\n",
    "    X = data['data']\n",
    "    y = data['target']\n",
    "    X9 = X[y == 9] # This line selects the rows corresponding to 9s\n",
    "\n",
    "(a) Copy, paste and modify the code above to find the first weight vector for the data consisting of the digit `1`. Use the code from [MATH 307 notebook on PCA](https://mlange01.github.io/MATH307/notebooks/PrincipalCompontentAnalysis.html). Reshape the first weight vector as a 8 by 8 matrix and save the result as `w1`.\n",
    "\n",
    "Verify your weight vector looks like a `1` by plotting the matrix with the commands:\n",
    "\n",
    "```\n",
    "plt.imshow(w1,cmap='binary',interpolation='gaussian')\n",
    "plt.colorbar()\n",
    "plt.show()\n",
    "```"
   ]
  },
  {
   "cell_type": "code",
   "execution_count": null,
   "metadata": {
    "deletable": false,
    "nbgrader": {
     "cell_type": "code",
     "checksum": "a79e7c0f26cab08cc3dc815a1bf427a5",
     "grade": false,
     "grade_id": "cell-89e6b7e8c94075b5",
     "locked": false,
     "schema_version": 3,
     "solution": true,
     "task": false
    }
   },
   "outputs": [],
   "source": [
    "# YOUR CODE HERE"
   ]
  },
  {
   "cell_type": "code",
   "execution_count": null,
   "metadata": {
    "deletable": false,
    "editable": false,
    "nbgrader": {
     "cell_type": "code",
     "checksum": "0b8653d6345e2ebcb4c790a16154e4e1",
     "grade": true,
     "grade_id": "cell-90feab4f717e84a3",
     "locked": true,
     "points": 1,
     "schema_version": 3,
     "solution": false,
     "task": false
    }
   },
   "outputs": [],
   "source": [
    "# Verify w1 is a NumPy array\n",
    "assert isinstance(w1,np.ndarray)\n",
    "print(\"Exercises 1a Test 1: Success!\")"
   ]
  },
  {
   "cell_type": "code",
   "execution_count": null,
   "metadata": {
    "deletable": false,
    "editable": false,
    "nbgrader": {
     "cell_type": "code",
     "checksum": "d443e6086cc07f5f82afc16935932ad1",
     "grade": true,
     "grade_id": "cell-ec44cac2fe9ec1f9",
     "locked": true,
     "points": 1,
     "schema_version": 3,
     "solution": false,
     "task": false
    }
   },
   "outputs": [],
   "source": [
    "# Verify w1 has the correct size\n",
    "assert w1.shape == (8,8)\n",
    "print(\"Exercises 1a Test 2: Success!\")"
   ]
  },
  {
   "cell_type": "code",
   "execution_count": null,
   "metadata": {
    "deletable": false,
    "editable": false,
    "nbgrader": {
     "cell_type": "code",
     "checksum": "cda9a55c61fe2d9a00f87b66d1ab9b20",
     "grade": true,
     "grade_id": "cell-714fc5edbf97cb50",
     "locked": true,
     "points": 2,
     "schema_version": 3,
     "solution": false,
     "task": false
    }
   },
   "outputs": [],
   "source": [
    "# Verify w1 has correct values (up to absolute value)\n",
    "assert np.allclose(np.abs(w1[3:5,4:6]),np.abs(np.array([[0.00963177, 0.26208274],[-0.01229312, 0.26978355]])))\n",
    "print(\"Exercises 1a Test 3: Success!\")"
   ]
  },
  {
   "cell_type": "markdown",
   "metadata": {},
   "source": [
    "(b) The same procedure from part (a) applied to the digit `4` produces the weight vector `w4` defined in the cell below. We want to use the first weight vector `w1` you found in part (a) and the given first weight vector `w4` to set up a very basic image recognition algorithm. For simplicity we will work only with the first ten handwritten images of the digit `1` and of the digit `4` from the digits dataset `X`.\n",
    "\n",
    "Here is an example that will help you with the code you need write below. Suppose we wanted to save the first five images of the digit `9` in the dataset `X` to a NumPy array called `Y9`. This can be done by typing\n",
    "\n",
    "```\n",
    "Y9 = X[y == 9][0:5]\n",
    "```\n",
    "\n",
    "Five handwritten images of the digit `9` are now stored as 1 x 64 vector (ie. a row vector) in the 5 x 64 NumPy array `Y9`. (You can check this by letting Python print out this array.)\n",
    "\n",
    "**A simple digit recognition algorithm** \n",
    "\n",
    "We start with the first ten images of the digit `1` from the digit dataset X. Our **digit recognition algorithm** will decide if each image is more similar to a `1` or to a `4`. Obviously the algorithm does not know that we only test images of `1` at the moment. Our algorithm will compute the inner product between each test image and the two first weight vectors `w1` and `w4`. The algorithm then decides that the underlying digit is closer to `1` (respectively `4`) if the inner product of the test image with `w1` (respectively `w4`) is greater (in absolute value) that the other inner product. The recognized value should then be stored in a NumPy array called `RecoImY1`. Recall that in our test, we only consider images of the digit `1` at the moment. \n",
    "\n",
    "If this algorithm works perfectly, all entries of `RecoImY1` would be `1`. **This will not happen because some 1s will be mistaken for 4s.**\n",
    "\n",
    "**Hints**\n",
    "\n",
    "1. Recall that the weight vectors `w1` and `w4` were reshaped to have form (8,8), so you need to bring them back into their original form, which had shape (64,).\n",
    "2. You need to initialize the NumPy array `RecoImY1` before you can use it. In the above case for the digit `9` this would for example work by writing\n",
    "    ```\n",
    "    RecoImY9 = np.zeros(Y9.shape[0])\n",
    "    ```\n",
    "    `RecoImY9` is then a NumPy array of zeros with shape (5,).\n",
    "3. You will need `if` statements to write the algorithm. The syntax is as follows: \n",
    "    ```\n",
    "    if x > y: \n",
    "        Do what is written here\n",
    "    else: \n",
    "        Do what is writen here\n",
    "    ```\n",
    "   Note that you can also do other logical conditions like: `x < y`, `x <= y` or `x >= y`.\n",
    "4. A `for` loop will be useful for an efficient algorithm. You could also test everything by hand, but why not let the computer do it for you. The syntax is as follow:\n",
    "    ```\n",
    "    for x in range(a,b):  \n",
    "        Do what ever is written here as long as x is smaller than b\n",
    "    ```\n",
    "    Note that $x$ is initially equal to $a$ but will never be equal to $b$ since the loop ends when $x = b - 1$, i.e. over the course of the loop x will have the values \n",
    "    $$\n",
    "    a, a + 1, a + 2, \\ldots , b - 2, b - 1\n",
    "    $$"
   ]
  },
  {
   "cell_type": "code",
   "execution_count": null,
   "metadata": {
    "deletable": false,
    "editable": false,
    "nbgrader": {
     "cell_type": "code",
     "checksum": "bfc1d195d4c344f2ffabfa0b01cc63a2",
     "grade": false,
     "grade_id": "cell-52253eb5bd6695f8",
     "locked": true,
     "schema_version": 3,
     "solution": false,
     "task": false
    }
   },
   "outputs": [],
   "source": [
    "w4 = np.array([[ 7.08079050e-18,  0.00000000e+00, -5.02849518e-02, -2.97238642e-01,  1.84695575e-01,  1.14899381e-01, -1.58116851e-02, -1.11368171e-02],\n",
    "               [-3.38813179e-21, -7.43279726e-03, -2.35073952e-01, -9.98801157e-02,  2.92945664e-01, -4.74672855e-02, -4.14894802e-02, -3.22223275e-03],\n",
    "               [-9.24446373e-33, -5.69690091e-02, -2.77798747e-01,  2.12806922e-01,  5.69532859e-02, -1.75771476e-01, -2.43629307e-02, -2.88819118e-03],\n",
    "               [-3.39187263e-04, -1.39856359e-01, -5.72190559e-02,  1.18455371e-01, -1.85598799e-01, -9.14062156e-02,  2.11290667e-02, -1.50005173e-04],\n",
    "               [ 0.00000000e+00,  5.10044783e-03,  3.89027431e-02, -1.24666150e-01, -1.51310463e-01,  5.40415172e-02,  6.72485790e-02,  0.00000000e+00],\n",
    "               [ 4.86713162e-03,  1.50174435e-01,  1.39099853e-01, -5.18899069e-03,  9.49909392e-03,  2.71113924e-01,  6.95007367e-02,  0.00000000e+00],\n",
    "               [ 4.39152824e-03,  4.94882760e-02,  7.68346479e-02, -1.93246236e-01,  1.07909526e-01,  2.49266964e-01,  1.62298306e-03,  0.00000000e+00],\n",
    "               [ 0.00000000e+00, -2.13829777e-05, -5.72504349e-02, -3.26616375e-01,  2.19895171e-01,  1.42051636e-01,  0.00000000e+00,  0.00000000e+00]])\n",
    "\n",
    "plt.imshow(w4,cmap='binary',interpolation='gaussian')\n",
    "plt.colorbar()\n",
    "plt.show()"
   ]
  },
  {
   "cell_type": "code",
   "execution_count": null,
   "metadata": {
    "deletable": false,
    "nbgrader": {
     "cell_type": "code",
     "checksum": "b8aa2756e14dd09f31648d773d32ceae",
     "grade": false,
     "grade_id": "cell-c923c585e96d19d4",
     "locked": false,
     "schema_version": 3,
     "solution": true,
     "task": false
    }
   },
   "outputs": [],
   "source": [
    "# YOUR CODE HERE"
   ]
  },
  {
   "cell_type": "code",
   "execution_count": null,
   "metadata": {
    "deletable": false,
    "editable": false,
    "nbgrader": {
     "cell_type": "code",
     "checksum": "0c12d8722dbf87bda3f823408b81240e",
     "grade": true,
     "grade_id": "cell-729f27f1061e7baf",
     "locked": true,
     "points": 1,
     "schema_version": 3,
     "solution": false,
     "task": false
    }
   },
   "outputs": [],
   "source": [
    "# Verify RecoImY1 is a NumPy array\n",
    "assert isinstance(RecoImY1,np.ndarray)\n",
    "print(\"Exercises 1b Test 1: Success!\")"
   ]
  },
  {
   "cell_type": "code",
   "execution_count": null,
   "metadata": {
    "deletable": false,
    "editable": false,
    "nbgrader": {
     "cell_type": "code",
     "checksum": "04bb811457aa6d425af4d97ba7cfeddb",
     "grade": true,
     "grade_id": "cell-81a7691ae4c49c52",
     "locked": true,
     "points": 1,
     "schema_version": 3,
     "solution": false,
     "task": false
    }
   },
   "outputs": [],
   "source": [
    "# Verify RecoImY1 has the correct size\n",
    "assert RecoImY1.shape == (10,)\n",
    "print(\"Exercises 1b Test 2: Success!\")"
   ]
  },
  {
   "cell_type": "code",
   "execution_count": null,
   "metadata": {
    "deletable": false,
    "editable": false,
    "nbgrader": {
     "cell_type": "code",
     "checksum": "3b69355651b72290ec678d6fad53b272",
     "grade": true,
     "grade_id": "cell-2481169514a0f026",
     "locked": true,
     "points": 2,
     "schema_version": 3,
     "solution": false,
     "task": false
    }
   },
   "outputs": [],
   "source": [
    "# Verify RecoImY1 has the correct values\n",
    "# Note: this cell contains hidden tests\n",
    "print(\"Exercises 1b Test 3: Success!\")"
   ]
  },
  {
   "cell_type": "markdown",
   "metadata": {},
   "source": [
    "(c) Applying the same procedure from part (b) for the first ten images of the digit `4` we obtain the array\n",
    "\n",
    "```\n",
    "RecoImY4 = np.array([4., 4., 4., 1., 4., 4., 1., 4., 4., 4.])\n",
    "```\n",
    "\n",
    "How many images did our algorithm recognize correctly? \n",
    "\n",
    "Write the number of correctly recognized images of the digit `1` into the variable `CorrectlyRecognized1s`. Accordingly write the number of correctly recognized images of the digit `4` to the variable `CorrectlyRecognized4s` and print both with the following commands:\n",
    "\n",
    "```\n",
    "print(\"Number of correctly recognized 1s:\", CorrectlyRecognized1s)\n",
    "print(\"Number of correctly recognized 4s:\", CorrectlyRecognized4s)\n",
    "```"
   ]
  },
  {
   "cell_type": "code",
   "execution_count": null,
   "metadata": {
    "deletable": false,
    "nbgrader": {
     "cell_type": "code",
     "checksum": "c4e3e977f44b2986309fc2ffd14fa445",
     "grade": false,
     "grade_id": "cell-4266ef661c9501e0",
     "locked": false,
     "schema_version": 3,
     "solution": true,
     "task": false
    }
   },
   "outputs": [],
   "source": [
    "RecoImY4 = np.array([4., 4., 4., 1., 4., 4., 1., 4., 4., 4.])\n",
    "# YOUR CODE HERE"
   ]
  },
  {
   "cell_type": "code",
   "execution_count": null,
   "metadata": {
    "deletable": false,
    "editable": false,
    "nbgrader": {
     "cell_type": "code",
     "checksum": "939f0ced6a55a1c22152d2a36fadea12",
     "grade": true,
     "grade_id": "cell-864c370612ac8ca6",
     "locked": true,
     "points": 1,
     "schema_version": 3,
     "solution": false,
     "task": false
    }
   },
   "outputs": [],
   "source": [
    "# Verify CorrectlyRecognized1s and CorrectlyRecognized4s are defined as integers and have the correct values\n",
    "# Note: this cell contains hidden tests\n",
    "assert isinstance(CorrectlyRecognized1s,int)\n",
    "assert isinstance(CorrectlyRecognized4s,int)\n",
    "print(\"Exercises 1c Test 1: Success!\")"
   ]
  },
  {
   "cell_type": "markdown",
   "metadata": {},
   "source": [
    "# Exercise 2: SVD of Toeplitz matrices\n",
    "\n",
    "The SVD of a matrix $A = P \\Sigma Q^T$ yields a formula for $A$ as a sum of rank one matrices\n",
    "\n",
    "$$\n",
    "A = \\sigma_1 \\mathbf{p}_1 \\mathbf{q}_1^T + \\cdots + \\sigma_r \\mathbf{p}_r \\mathbf{q}_r^T\n",
    "$$\n",
    "\n",
    "The truncated SVD of rank $k \\leq r$ is given by\n",
    "\n",
    "$$\n",
    "A_k = \\sigma_1 \\mathbf{p}_1 \\mathbf{q}_1^T + \\cdots + \\sigma_k \\mathbf{p}_k \\mathbf{q}_k^T\n",
    "$$\n",
    "\n",
    "Note that the product of vectors $\\mathbf{p} \\mathbf{q}^T$ is called the outer product. Use the function [`numpy.outer`](https://numpy.org/doc/stable/reference/generated/numpy.outer.html) to compute the outer product of vectors.\n",
    "\n",
    "The following code creates a Toeplitz matrix $A$ of size $N$."
   ]
  },
  {
   "cell_type": "code",
   "execution_count": null,
   "metadata": {},
   "outputs": [],
   "source": [
    "N = 16\n",
    "c = np.zeros(N)\n",
    "c[:4] = np.array([1.0,0.75,0.5,0.25])\n",
    "A = la.toeplitz(c)\n",
    "plt.imshow(A,cmap='binary')\n",
    "plt.colorbar()\n",
    "plt.show()"
   ]
  },
  {
   "cell_type": "markdown",
   "metadata": {},
   "source": [
    "(a) Compute the SVD of $A$ and then compute $\\sigma_1 \\mathbf{p}_1 \\mathbf{q}_1^T$ and save the result as `s1p1q1T`. Recall, in Python, array indices begin at 0 not 1."
   ]
  },
  {
   "cell_type": "code",
   "execution_count": null,
   "metadata": {
    "deletable": false,
    "nbgrader": {
     "cell_type": "code",
     "checksum": "a13e9a77ab11ad1fdddc2a6501d35bd8",
     "grade": false,
     "grade_id": "cell-d8551f87338ca610",
     "locked": false,
     "schema_version": 3,
     "solution": true,
     "task": false
    }
   },
   "outputs": [],
   "source": [
    "# YOUR CODE HERE"
   ]
  },
  {
   "cell_type": "code",
   "execution_count": null,
   "metadata": {
    "deletable": false,
    "editable": false,
    "nbgrader": {
     "cell_type": "code",
     "checksum": "da629e162f65cd29f41ed1b18d32c53a",
     "grade": true,
     "grade_id": "cell-92c4b33b399aff91",
     "locked": true,
     "points": 1,
     "schema_version": 3,
     "solution": false,
     "task": false
    }
   },
   "outputs": [],
   "source": [
    "# Verify s1p1q1T is a NumPy array\n",
    "assert isinstance(s1p1q1T,np.ndarray)\n",
    "print(\"Exercises 2a Test 1: Success!\")"
   ]
  },
  {
   "cell_type": "code",
   "execution_count": null,
   "metadata": {
    "deletable": false,
    "editable": false,
    "nbgrader": {
     "cell_type": "code",
     "checksum": "9cac4eed0214239a1d6221f8bf716b5c",
     "grade": true,
     "grade_id": "cell-ca2daadbfa5bc919",
     "locked": true,
     "points": 1,
     "schema_version": 3,
     "solution": false,
     "task": false
    }
   },
   "outputs": [],
   "source": [
    "# Verify s1p1q1T is the correct size\n",
    "assert s1p1q1T.shape == (16,16)\n",
    "print(\"Exercises 2a Test 2: Success!\")"
   ]
  },
  {
   "cell_type": "code",
   "execution_count": null,
   "metadata": {
    "deletable": false,
    "editable": false,
    "nbgrader": {
     "cell_type": "code",
     "checksum": "24542743798854156e99369eaf3183e3",
     "grade": true,
     "grade_id": "cell-53de22ee7d2e8222",
     "locked": true,
     "points": 2,
     "schema_version": 3,
     "solution": false,
     "task": false
    }
   },
   "outputs": [],
   "source": [
    "# Verify s1p1q1T has the correct values\n",
    "assert np.allclose(s1p1q1T[:2,:2],np.array([[0.03147122, 0.04833746],[0.04833746, 0.07424275]]))\n",
    "print(\"Exercises 2a Test 3: Success!\")"
   ]
  },
  {
   "cell_type": "markdown",
   "metadata": {},
   "source": [
    "(b) Plot the matrix $\\sigma_k \\mathbf{p}_k \\mathbf{q}_k^T$ for different values $k$ using the code\n",
    "\n",
    "    skpkqkT = # Modify your code from part (a)\n",
    "    plt.imshow(skpkqkT,cmap='binary')\n",
    "    plt.colorbar()\n",
    "\n",
    "Based on your observations, determine whether the following statement is `True` or `False`:\n",
    "\n",
    "> As $k$ increases, the matrix $\\sigma_k \\mathbf{p}_k \\mathbf{q}_k^T$ contains higher frequency data. In other words, as $k$ increases, the entries in the matrix oscillate more quickly from entry to entry across the matrix.\n",
    "\n",
    "Save your response to the variable `high_frequency`."
   ]
  },
  {
   "cell_type": "code",
   "execution_count": null,
   "metadata": {
    "deletable": false,
    "nbgrader": {
     "cell_type": "code",
     "checksum": "62bfa8a05dd101c8b20567cf0c562dfb",
     "grade": false,
     "grade_id": "cell-94455356641c8654",
     "locked": false,
     "schema_version": 3,
     "solution": true,
     "task": false
    }
   },
   "outputs": [],
   "source": [
    "# YOUR CODE HERE"
   ]
  },
  {
   "cell_type": "code",
   "execution_count": null,
   "metadata": {
    "deletable": false,
    "editable": false,
    "nbgrader": {
     "cell_type": "code",
     "checksum": "63d5a179dffa7606c5195d74e0fe49cc",
     "grade": true,
     "grade_id": "cell-471bacc0df9b984a",
     "locked": true,
     "points": 1,
     "schema_version": 3,
     "solution": false,
     "task": false
    }
   },
   "outputs": [],
   "source": [
    "# Verify high_frequency is defined as True or False (boolean value)\n",
    "assert isinstance(high_frequency,bool)\n",
    "print(\"Exercises 2b Test 1: Success!\")"
   ]
  },
  {
   "cell_type": "code",
   "execution_count": null,
   "metadata": {
    "deletable": false,
    "editable": false,
    "nbgrader": {
     "cell_type": "code",
     "checksum": "fe9e822edbe1aaea99586594bdb43b4a",
     "grade": true,
     "grade_id": "cell-17e4916e11dda047",
     "locked": true,
     "points": 1,
     "schema_version": 3,
     "solution": false,
     "task": false
    }
   },
   "outputs": [],
   "source": [
    "# Verify high_frequency has correct value\n",
    "# Note: this cell contains hidden tests\n",
    "print(\"Exercises 2b Test 2: Success!\")"
   ]
  },
  {
   "cell_type": "markdown",
   "metadata": {},
   "source": [
    "(c) Use `plt.plot(S,'b.')` to plot the singular values of $A$ as a scatter plot. How many singular values are greater than $1/2$? Save your response as `n_singular_values`."
   ]
  },
  {
   "cell_type": "code",
   "execution_count": null,
   "metadata": {
    "deletable": false,
    "nbgrader": {
     "cell_type": "code",
     "checksum": "53b238685abac2030263aa8f612f5975",
     "grade": false,
     "grade_id": "cell-a0d5b7bdab400dea",
     "locked": false,
     "schema_version": 3,
     "solution": true,
     "task": false
    }
   },
   "outputs": [],
   "source": [
    "# YOUR CODE HERE"
   ]
  },
  {
   "cell_type": "code",
   "execution_count": null,
   "metadata": {
    "deletable": false,
    "editable": false,
    "nbgrader": {
     "cell_type": "code",
     "checksum": "3ef9d1b53b716b8b2b10790a9ad61800",
     "grade": true,
     "grade_id": "cell-5bc83d935eb20a09",
     "locked": true,
     "points": 1,
     "schema_version": 3,
     "solution": false,
     "task": false
    }
   },
   "outputs": [],
   "source": [
    "# Verify n_singular_values is defined as an integer\n",
    "assert isinstance(n_singular_values,int)\n",
    "print(\"Exercises 2c Test 1: Success!\")"
   ]
  },
  {
   "cell_type": "code",
   "execution_count": null,
   "metadata": {
    "deletable": false,
    "editable": false,
    "nbgrader": {
     "cell_type": "code",
     "checksum": "db256ca8b7c1dec7a8fcc59053ef5149",
     "grade": true,
     "grade_id": "cell-a03f92f3b646df0b",
     "locked": true,
     "points": 1,
     "schema_version": 3,
     "solution": false,
     "task": false
    }
   },
   "outputs": [],
   "source": [
    "# Verify n_singular_values has correct value\n",
    "# Note: this cell contains hidden tests\n",
    "print(\"Exercises 2c Test 2: Success!\")"
   ]
  },
  {
   "cell_type": "markdown",
   "metadata": {},
   "source": [
    "(d) The following code computes the truncated SVD $A_k$\n",
    "\n",
    "    Ak = sum([S[i]*np.outer(P[:,i],QT[i,:]) for i in range(0,k)])\n",
    "\n",
    "Copy, paste and modify the code to compute the truncated pseudoinverse\n",
    "\n",
    "$$\n",
    "A_k^+ = \\frac{1}{\\sigma_1} \\mathbf{q}_1 \\mathbf{p}_1^T + \\cdots + \\frac{1}{\\sigma_k} \\mathbf{q}_k \\mathbf{p}_k^T\n",
    "$$\n",
    "\n",
    "where $k$ is the number found in part (c). In other words, $\\sigma_1,\\dots,\\sigma_k > 1/2$ and $\\sigma_m \\leq 1/2$ for $m > k$. Save the result as `Ak_plus`."
   ]
  },
  {
   "cell_type": "code",
   "execution_count": null,
   "metadata": {
    "deletable": false,
    "nbgrader": {
     "cell_type": "code",
     "checksum": "def2a73c18117b20a6dfb89d5accb60a",
     "grade": false,
     "grade_id": "cell-d5baee67caf9de73",
     "locked": false,
     "schema_version": 3,
     "solution": true,
     "task": false
    }
   },
   "outputs": [],
   "source": [
    "# YOUR CODE HERE"
   ]
  },
  {
   "cell_type": "code",
   "execution_count": null,
   "metadata": {
    "deletable": false,
    "editable": false,
    "nbgrader": {
     "cell_type": "code",
     "checksum": "e9ffeb830dbcfddee94434079e80579f",
     "grade": true,
     "grade_id": "cell-6735926aedb96b21",
     "locked": true,
     "points": 1,
     "schema_version": 3,
     "solution": false,
     "task": false
    }
   },
   "outputs": [],
   "source": [
    "# Verify Ak_plus is a NumPy array\n",
    "assert isinstance(Ak_plus,np.ndarray)\n",
    "print(\"Exercises 2d Test 1: Success!\")"
   ]
  },
  {
   "cell_type": "code",
   "execution_count": null,
   "metadata": {
    "deletable": false,
    "editable": false,
    "nbgrader": {
     "cell_type": "code",
     "checksum": "9806e79d780c10e284ff57d745e17291",
     "grade": true,
     "grade_id": "cell-70fca0cfbba20fa3",
     "locked": true,
     "points": 1,
     "schema_version": 3,
     "solution": false,
     "task": false
    }
   },
   "outputs": [],
   "source": [
    "# Verify Ak_plus has the correct shape\n",
    "assert Ak_plus.shape == (16,16)\n",
    "print(\"Exercises 2d Test 2: Success!\")"
   ]
  },
  {
   "cell_type": "code",
   "execution_count": null,
   "metadata": {
    "deletable": false,
    "editable": false,
    "nbgrader": {
     "cell_type": "code",
     "checksum": "f986ab6ea1a0131d7165763d9a3be874",
     "grade": true,
     "grade_id": "cell-694d6f665a8582e4",
     "locked": true,
     "points": 2,
     "schema_version": 3,
     "solution": false,
     "task": false
    }
   },
   "outputs": [],
   "source": [
    "# Verify Ak_plus has the correct values\n",
    "assert np.allclose(Ak_plus[:2,:2],np.array([[0.41329088, 0.23136187],[0.23136187, 0.17793872]]))\n",
    "print(\"Exercises 2d Test 3: Success!\")"
   ]
  },
  {
   "cell_type": "markdown",
   "metadata": {},
   "source": [
    "## Exercise 3: PageRank\n",
    "\n",
    "The cell below reads the data from the file `webgraph.txt` and creates a directed graph $G$ with 100 nodes, its adjacency matrix $A$ and the stochastic matrix $P$, and plots the graph. The matrix $P$ represents the markov chain for the process: at each step, click a random link on the page."
   ]
  },
  {
   "cell_type": "code",
   "execution_count": null,
   "metadata": {
    "deletable": false,
    "editable": false,
    "nbgrader": {
     "cell_type": "code",
     "checksum": "c61861c458e48e20a8d56b5bc9e08e79",
     "grade": false,
     "grade_id": "cell-82f91298d2bc7d93",
     "locked": true,
     "schema_version": 3,
     "solution": false,
     "task": false
    }
   },
   "outputs": [],
   "source": [
    "G = nx.read_edgelist('webgraph.txt',create_using=nx.DiGraph)\n",
    "mapping = {n: i for i,n in enumerate(G.nodes)}\n",
    "G = nx.relabel_nodes(G,mapping)\n",
    "A = np.array(nx.adjacency_matrix(G).todense().T)\n",
    "P = A/A.sum(axis=0)\n",
    "\n",
    "plt.figure(figsize=(12,8))\n",
    "nx.draw(G,with_labels=True)\n",
    "plt.show()"
   ]
  },
  {
   "cell_type": "markdown",
   "metadata": {},
   "source": [
    "(a) Create the Google matrix $\\alpha P + (1 - \\alpha)\\mathbf{v} \\mathbf{e}^T$ for $\\alpha = 0.85$ where $\\mathbf{e}$ is the vector with all ones and $\\mathbf{v} = 0.01 \\mathbf{e}$ is the uniform distribution vector for $N=100$ nodes. Save the result as `M`."
   ]
  },
  {
   "cell_type": "code",
   "execution_count": null,
   "metadata": {
    "deletable": false,
    "nbgrader": {
     "cell_type": "code",
     "checksum": "0529775889ef0caded5974b69667aed8",
     "grade": false,
     "grade_id": "cell-7145f4474e559a59",
     "locked": false,
     "schema_version": 3,
     "solution": true,
     "task": false
    }
   },
   "outputs": [],
   "source": [
    "# YOUR CODE HERE"
   ]
  },
  {
   "cell_type": "code",
   "execution_count": null,
   "metadata": {
    "deletable": false,
    "editable": false,
    "nbgrader": {
     "cell_type": "code",
     "checksum": "fc0004508a8da338b0520a48d8e3b0d2",
     "grade": true,
     "grade_id": "cell-1a0cd2b494dd6f03",
     "locked": true,
     "points": 1,
     "schema_version": 3,
     "solution": false,
     "task": false
    }
   },
   "outputs": [],
   "source": [
    "# Verify M is a NumPy array\n",
    "assert isinstance(M,np.ndarray)\n",
    "print(\"Exercises 3a Test 1: Success!\")"
   ]
  },
  {
   "cell_type": "code",
   "execution_count": null,
   "metadata": {
    "deletable": false,
    "editable": false,
    "nbgrader": {
     "cell_type": "code",
     "checksum": "4ce4abc6249ff5d340724e0c50f6aa0a",
     "grade": true,
     "grade_id": "cell-681a4368790ff773",
     "locked": true,
     "points": 1,
     "schema_version": 3,
     "solution": false,
     "task": false
    }
   },
   "outputs": [],
   "source": [
    "# Verify M has the correct size\n",
    "assert M.shape == (100,100)\n",
    "print(\"Exercises 3a Test 2: Success!\")"
   ]
  },
  {
   "cell_type": "code",
   "execution_count": null,
   "metadata": {
    "deletable": false,
    "editable": false,
    "nbgrader": {
     "cell_type": "code",
     "checksum": "7f3b7a07ca09535db4d7835674313964",
     "grade": true,
     "grade_id": "cell-c17747e291d47d41",
     "locked": true,
     "points": 2,
     "schema_version": 3,
     "solution": false,
     "task": false
    }
   },
   "outputs": [],
   "source": [
    "# Verify M has correct values\n",
    "assert np.allclose(M[:2,:2],np.array([[0.0015, 0.0015],[0.214 , 0.0015]]))\n",
    "print(\"Exercises 3a Test 3: Success!\")"
   ]
  },
  {
   "cell_type": "markdown",
   "metadata": {},
   "source": [
    "(b) The following code performs 5 iterations of the power method (without normalization) with initial vector $\\mathbf{x}_0 = [1 \\ 0 \\ \\cdots \\ 0]^T$:\n",
    "\n",
    "    iterations = 5\n",
    "    xk = np.zeros(100)\n",
    "    xk[0] = 1\n",
    "    for k in range(0,iterations):\n",
    "        xk = M @ xk\n",
    "    \n",
    "Copy, paste and modify the code to perform 10 iterations and use the function `numpy.argmax` to find the webpage with the highest probability in the state vector $\\mathbf{x}_k$. Save the index as `webpage1`. Plot the graph with colors given by the state vector using the following code:\n",
    "\n",
    "    plt.figure(figsize=(12,8))\n",
    "    nx.draw(G,node_color=xk,cmap='winter',with_labels=True)"
   ]
  },
  {
   "cell_type": "code",
   "execution_count": null,
   "metadata": {
    "deletable": false,
    "nbgrader": {
     "cell_type": "code",
     "checksum": "bbe7ebe695e0c307e9aecfcb45fcd89d",
     "grade": false,
     "grade_id": "cell-7eb70697f4101ed0",
     "locked": false,
     "schema_version": 3,
     "solution": true,
     "task": false
    }
   },
   "outputs": [],
   "source": [
    "# YOUR CODE HERE"
   ]
  },
  {
   "cell_type": "code",
   "execution_count": null,
   "metadata": {
    "deletable": false,
    "editable": false,
    "nbgrader": {
     "cell_type": "code",
     "checksum": "9cd1a4903e6cf4a197e5bcf9205f8f7e",
     "grade": true,
     "grade_id": "cell-a4bbee62cbb6101f",
     "locked": true,
     "points": 1,
     "schema_version": 3,
     "solution": false,
     "task": false
    }
   },
   "outputs": [],
   "source": [
    "# Verify webpage1 is a NumPy integer\n",
    "assert isinstance(webpage1,np.int64)\n",
    "print(\"Exercises 3b Test 1: Success!\")"
   ]
  },
  {
   "cell_type": "code",
   "execution_count": null,
   "metadata": {
    "deletable": false,
    "editable": false,
    "nbgrader": {
     "cell_type": "code",
     "checksum": "9b11568f8a3d485b00f2cbbe7376c8be",
     "grade": true,
     "grade_id": "cell-327d5ee85b982c40",
     "locked": true,
     "points": 1,
     "schema_version": 3,
     "solution": false,
     "task": false
    }
   },
   "outputs": [],
   "source": [
    "# Verify webpage1 has the correct value\n",
    "assert isinstance(webpage1,np.int64)\n",
    "print(\"Exercises 3b Test 2: Success!\")"
   ]
  },
  {
   "cell_type": "markdown",
   "metadata": {},
   "source": [
    "(c) Repeat (b) but now with 100 iterations. Save the result as `webpage2`."
   ]
  },
  {
   "cell_type": "code",
   "execution_count": null,
   "metadata": {
    "deletable": false,
    "nbgrader": {
     "cell_type": "code",
     "checksum": "ed96f24a0d794ca8c949db2c88c3250c",
     "grade": false,
     "grade_id": "cell-ba20448444f57fc3",
     "locked": false,
     "schema_version": 3,
     "solution": true,
     "task": false
    }
   },
   "outputs": [],
   "source": [
    "# YOUR CODE HERE"
   ]
  },
  {
   "cell_type": "code",
   "execution_count": null,
   "metadata": {
    "deletable": false,
    "editable": false,
    "nbgrader": {
     "cell_type": "code",
     "checksum": "c247c5e2f360b3e9382bb23938e31652",
     "grade": true,
     "grade_id": "cell-1a81267e072adb24",
     "locked": true,
     "points": 1,
     "schema_version": 3,
     "solution": false,
     "task": false
    }
   },
   "outputs": [],
   "source": [
    "# Verify webpage2 is a NumPy integer\n",
    "assert isinstance(webpage2,np.int64)\n",
    "print(\"Exercises 3c Test 1: Success!\")"
   ]
  },
  {
   "cell_type": "code",
   "execution_count": null,
   "metadata": {
    "deletable": false,
    "editable": false,
    "nbgrader": {
     "cell_type": "code",
     "checksum": "5a623c8dd41b1dd486f253d408e25174",
     "grade": true,
     "grade_id": "cell-c9a35f28e19d72d0",
     "locked": true,
     "points": 1,
     "schema_version": 3,
     "solution": false,
     "task": false
    }
   },
   "outputs": [],
   "source": [
    "# Verify webpage2 has the correct value\n",
    "# Note: this cell contains hidden tests\n",
    "print(\"Exercises 3c Test 2: Success!\")"
   ]
  },
  {
   "cell_type": "markdown",
   "metadata": {},
   "source": [
    "(d) Let $\\mathbf{v}$ be the vector where $v_i = 1/10$ for the 10 indices $i=94, 96, 87, 88, 12, 95, 16, 93, 99, 77$ and all other $v_j = 0$. Create the Google matrix for $\\alpha = 0.9$ and the vector $\\mathbf{v}$ defined in the cell above. Save the result as `M10`.\n",
    "\n",
    "The indices included in $\\mathbf{v}$ are the webpages with lowest pagerank after 20 iterations. Execute the cell below to verify. The matrix `M10` is the stochastic matrix for the process: either click a link with probability 0.9 or return to one of the low rank webpages listed in $\\mathbf{v}$."
   ]
  },
  {
   "cell_type": "code",
   "execution_count": null,
   "metadata": {
    "deletable": false,
    "editable": false,
    "nbgrader": {
     "cell_type": "code",
     "checksum": "836421f8de93b12fb011a62b3a7f310b",
     "grade": false,
     "grade_id": "cell-8e0d9806b1c1d943",
     "locked": true,
     "schema_version": 3,
     "solution": false,
     "task": false
    }
   },
   "outputs": [],
   "source": [
    "iterations = 20\n",
    "xk = np.zeros(100)\n",
    "xk[0] = 1\n",
    "for k in range(0,iterations):\n",
    "    xk = M@xk\n",
    "\n",
    "np.argsort(xk)[:10]"
   ]
  },
  {
   "cell_type": "code",
   "execution_count": null,
   "metadata": {
    "deletable": false,
    "nbgrader": {
     "cell_type": "code",
     "checksum": "e9a17f2a979e8a70a41e96df52bc086b",
     "grade": false,
     "grade_id": "cell-ec3013820146fa15",
     "locked": false,
     "schema_version": 3,
     "solution": true,
     "task": false
    }
   },
   "outputs": [],
   "source": [
    "# YOUR CODE HERE"
   ]
  },
  {
   "cell_type": "code",
   "execution_count": null,
   "metadata": {
    "deletable": false,
    "editable": false,
    "nbgrader": {
     "cell_type": "code",
     "checksum": "4293229d92cfea609d5a58eca0052566",
     "grade": true,
     "grade_id": "cell-f84cbf0ccc67a281",
     "locked": true,
     "points": 1,
     "schema_version": 3,
     "solution": false,
     "task": false
    }
   },
   "outputs": [],
   "source": [
    "# Verify M10 is a NumPy array\n",
    "assert isinstance(M10,np.ndarray)\n",
    "print(\"Exercises 3d Test 1: Success!\")"
   ]
  },
  {
   "cell_type": "code",
   "execution_count": null,
   "metadata": {
    "deletable": false,
    "editable": false,
    "nbgrader": {
     "cell_type": "code",
     "checksum": "24d9b755cccc9c1285e8228d68305b8e",
     "grade": true,
     "grade_id": "cell-750c0170f531bf60",
     "locked": true,
     "points": 1,
     "schema_version": 3,
     "solution": false,
     "task": false
    }
   },
   "outputs": [],
   "source": [
    "# Verify M10 has the correct size\n",
    "assert M10.shape == (100,100)\n",
    "print(\"Exercises 3d Test 2: Success!\")"
   ]
  },
  {
   "cell_type": "code",
   "execution_count": null,
   "metadata": {
    "deletable": false,
    "editable": false,
    "nbgrader": {
     "cell_type": "code",
     "checksum": "fb34f8f67ed9e8f002f02a37f0881e31",
     "grade": true,
     "grade_id": "cell-db195c3b1ec09c1a",
     "locked": true,
     "points": 2,
     "schema_version": 3,
     "solution": false,
     "task": false
    }
   },
   "outputs": [],
   "source": [
    "# Verify M10 has the correct values\n",
    "assert np.allclose(M10[87:89,90:92],np.array([[0.01, 0.11],[0.01, 0.01]]))\n",
    "print(\"Exercises 3d Test 3: Success!\")"
   ]
  },
  {
   "cell_type": "markdown",
   "metadata": {},
   "source": [
    "(e) Let's see if this new markov chain changes the result. Compute 10 iterations of the power method (without normalization) for `M10` starting with initial vector $\\mathbf{x}_0 = [1 \\ 0 \\ \\cdots \\ 0]^T$. Use the function `numpy.argmax` to find the webpage with the highest probability in the state vector $\\mathbf{x}_k$. Save the index as `webpage3`."
   ]
  },
  {
   "cell_type": "code",
   "execution_count": null,
   "metadata": {
    "deletable": false,
    "nbgrader": {
     "cell_type": "code",
     "checksum": "75e13eea51816c8061c508d2ceabe35b",
     "grade": false,
     "grade_id": "cell-728130d2ae2925e4",
     "locked": false,
     "schema_version": 3,
     "solution": true,
     "task": false
    }
   },
   "outputs": [],
   "source": [
    "# YOUR CODE HERE"
   ]
  },
  {
   "cell_type": "code",
   "execution_count": null,
   "metadata": {
    "deletable": false,
    "editable": false,
    "nbgrader": {
     "cell_type": "code",
     "checksum": "c60ef7da2adae02c3b6f353fbc843bc4",
     "grade": true,
     "grade_id": "cell-3ae5457aa92bcd30",
     "locked": true,
     "points": 1,
     "schema_version": 3,
     "solution": false,
     "task": false
    }
   },
   "outputs": [],
   "source": [
    "# Verify webpage3 is a NumPy integer\n",
    "assert isinstance(webpage3,np.int64)\n",
    "print(\"Exercises 3e Test 1: Success!\")"
   ]
  },
  {
   "cell_type": "code",
   "execution_count": null,
   "metadata": {
    "deletable": false,
    "editable": false,
    "nbgrader": {
     "cell_type": "code",
     "checksum": "b2cea5548357569729f4159f8d3bec63",
     "grade": true,
     "grade_id": "cell-7a3afa7b9aec2959",
     "locked": true,
     "points": 1,
     "schema_version": 3,
     "solution": false,
     "task": false
    }
   },
   "outputs": [],
   "source": [
    "# Verify webpage2 has the correct value\n",
    "assert isinstance(webpage3,np.int64)\n",
    "print(\"Exercises 3e Test 2: Success!\")"
   ]
  },
  {
   "cell_type": "code",
   "execution_count": null,
   "metadata": {},
   "outputs": [],
   "source": [
    "plt.figure(figsize=(12,8))\n",
    "nx.draw(G,node_color=xk,cmap='winter',with_labels=True)"
   ]
  }
 ],
 "metadata": {
  "kernelspec": {
   "display_name": "Python 3",
   "language": "python",
   "name": "python3"
  },
  "language_info": {
   "codemirror_mode": {
    "name": "ipython",
    "version": 3
   },
   "file_extension": ".py",
   "mimetype": "text/x-python",
   "name": "python",
   "nbconvert_exporter": "python",
   "pygments_lexer": "ipython3",
   "version": "3.8.6"
  }
 },
 "nbformat": 4,
 "nbformat_minor": 4
}
